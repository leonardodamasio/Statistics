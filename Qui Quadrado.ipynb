{
 "cells": [
  {
   "cell_type": "code",
   "execution_count": 1,
   "metadata": {},
   "outputs": [],
   "source": [
    "import numpy as np\n",
    "from scipy.stats import chi2_contingency"
   ]
  },
  {
   "cell_type": "code",
   "execution_count": 2,
   "metadata": {},
   "outputs": [
    {
     "data": {
      "text/plain": [
       "array([[19,  6],\n",
       "       [43, 32]])"
      ]
     },
     "execution_count": 2,
     "metadata": {},
     "output_type": "execute_result"
    }
   ],
   "source": [
    "novela = np.array([[19,6], [43,32]])\n",
    "novela"
   ]
  },
  {
   "cell_type": "code",
   "execution_count": 3,
   "metadata": {},
   "outputs": [
    {
     "name": "stdout",
     "output_type": "stream",
     "text": [
      "2.037351443123939\n",
      "0.15347667161786666\n",
      "1\n",
      "[[15.5  9.5]\n",
      " [46.5 28.5]]\n"
     ]
    }
   ],
   "source": [
    "for i in chi2_contingency(novela):\n",
    "    print(i)"
   ]
  },
  {
   "cell_type": "code",
   "execution_count": 4,
   "metadata": {},
   "outputs": [],
   "source": [
    "# Returns\n",
    "# -------\n",
    "# chi2 : float\n",
    "#     The test statistic.\n",
    "# p : float\n",
    "#     The p-value of the test\n",
    "# dof : int\n",
    "#     Degrees of freedom\n",
    "# expected : ndarray, same shape as `observed`\n",
    "#     The expected frequencies, based on the marginal sums of the table."
   ]
  },
  {
   "cell_type": "code",
   "execution_count": 5,
   "metadata": {},
   "outputs": [],
   "source": [
    "# p = 0.15 > alfa(0.05)\n",
    "# Não podemos rejeitar a hipótese nula\n",
    "# Não há diferença significativa além do acaso"
   ]
  }
 ],
 "metadata": {
  "kernelspec": {
   "display_name": "Python 3",
   "language": "python",
   "name": "python3"
  },
  "language_info": {
   "codemirror_mode": {
    "name": "ipython",
    "version": 3
   },
   "file_extension": ".py",
   "mimetype": "text/x-python",
   "name": "python",
   "nbconvert_exporter": "python",
   "pygments_lexer": "ipython3",
   "version": "3.7.3"
  }
 },
 "nbformat": 4,
 "nbformat_minor": 4
}
