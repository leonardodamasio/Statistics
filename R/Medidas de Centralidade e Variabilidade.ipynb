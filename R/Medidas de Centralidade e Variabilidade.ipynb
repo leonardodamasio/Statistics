{
 "cells": [
  {
   "cell_type": "code",
   "execution_count": 1,
   "metadata": {},
   "outputs": [],
   "source": [
    "# quantile() # Quartil\n",
    "# sd() # Standard Deviation - Desvio Padrão\n",
    "# var() # Variância\n",
    "# mean() # Média\n",
    "# median() # Mediana"
   ]
  },
  {
   "cell_type": "markdown",
   "metadata": {},
   "source": [
    "### Medidas de Centralidade e Variabilidade"
   ]
  },
  {
   "cell_type": "code",
   "execution_count": 2,
   "metadata": {},
   "outputs": [
    {
     "data": {
      "text/html": [
       "<ol class=list-inline>\n",
       "\t<li>40000</li>\n",
       "\t<li>18000</li>\n",
       "\t<li>12000</li>\n",
       "\t<li>250000</li>\n",
       "\t<li>30000</li>\n",
       "\t<li>140000</li>\n",
       "\t<li>3e+05</li>\n",
       "\t<li>40000</li>\n",
       "\t<li>8e+05</li>\n",
       "</ol>\n"
      ],
      "text/latex": [
       "\\begin{enumerate*}\n",
       "\\item 40000\n",
       "\\item 18000\n",
       "\\item 12000\n",
       "\\item 250000\n",
       "\\item 30000\n",
       "\\item 140000\n",
       "\\item 3e+05\n",
       "\\item 40000\n",
       "\\item 8e+05\n",
       "\\end{enumerate*}\n"
      ],
      "text/markdown": [
       "1. 40000\n",
       "2. 18000\n",
       "3. 12000\n",
       "4. 250000\n",
       "5. 30000\n",
       "6. 140000\n",
       "7. 3e+05\n",
       "8. 40000\n",
       "9. 8e+05\n",
       "\n",
       "\n"
      ],
      "text/plain": [
       "[1]  40000  18000  12000 250000  30000 140000 300000  40000 800000"
      ]
     },
     "metadata": {},
     "output_type": "display_data"
    }
   ],
   "source": [
    "jogadores = c(40000, 18000, 12000, 250000, 30000, 140000, 300000, 40000, 800000)\n",
    "jogadores"
   ]
  },
  {
   "cell_type": "code",
   "execution_count": 3,
   "metadata": {},
   "outputs": [
    {
     "data": {
      "text/html": [
       "181111.111111111"
      ],
      "text/latex": [
       "181111.111111111"
      ],
      "text/markdown": [
       "181111.111111111"
      ],
      "text/plain": [
       "[1] 181111.1"
      ]
     },
     "metadata": {},
     "output_type": "display_data"
    }
   ],
   "source": [
    "mean(jogadores)"
   ]
  },
  {
   "cell_type": "code",
   "execution_count": 4,
   "metadata": {},
   "outputs": [
    {
     "data": {
      "text/html": [
       "40000"
      ],
      "text/latex": [
       "40000"
      ],
      "text/markdown": [
       "40000"
      ],
      "text/plain": [
       "[1] 40000"
      ]
     },
     "metadata": {},
     "output_type": "display_data"
    }
   ],
   "source": [
    "median(jogadores)"
   ]
  },
  {
   "cell_type": "code",
   "execution_count": 5,
   "metadata": {},
   "outputs": [
    {
     "name": "stdout",
     "output_type": "stream",
     "text": [
      "    0%    25%    50%    75%   100% \n",
      " 12000  30000  40000 250000 800000 \n"
     ]
    }
   ],
   "source": [
    "quartis = quantile(jogadores)\n",
    "print(quartis)"
   ]
  },
  {
   "cell_type": "code",
   "execution_count": 6,
   "metadata": {},
   "outputs": [
    {
     "data": {
      "text/html": [
       "<strong>75%:</strong> 250000"
      ],
      "text/latex": [
       "\\textbf{75\\textbackslash{}\\%:} 250000"
      ],
      "text/markdown": [
       "**75%:** 250000"
      ],
      "text/plain": [
       "   75% \n",
       "250000 "
      ]
     },
     "metadata": {},
     "output_type": "display_data"
    }
   ],
   "source": [
    "quartis[4]"
   ]
  },
  {
   "cell_type": "code",
   "execution_count": 7,
   "metadata": {},
   "outputs": [
    {
     "data": {
      "text/html": [
       "255307.87514511"
      ],
      "text/latex": [
       "255307.87514511"
      ],
      "text/markdown": [
       "255307.87514511"
      ],
      "text/plain": [
       "[1] 255307.9"
      ]
     },
     "metadata": {},
     "output_type": "display_data"
    }
   ],
   "source": [
    "sd(jogadores)"
   ]
  },
  {
   "cell_type": "code",
   "execution_count": 8,
   "metadata": {},
   "outputs": [
    {
     "data": {
      "text/plain": [
       "   Min. 1st Qu.  Median    Mean 3rd Qu.    Max. \n",
       "  12000   30000   40000  181111  250000  800000 "
      ]
     },
     "metadata": {},
     "output_type": "display_data"
    }
   ],
   "source": [
    "summary(jogadores)"
   ]
  }
 ],
 "metadata": {
  "kernelspec": {
   "display_name": "R 3.3",
   "language": "R",
   "name": "ir33"
  },
  "language_info": {
   "codemirror_mode": "r",
   "file_extension": ".r",
   "mimetype": "text/x-r-source",
   "name": "R",
   "pygments_lexer": "r",
   "version": "3.6.1"
  }
 },
 "nbformat": 4,
 "nbformat_minor": 4
}
