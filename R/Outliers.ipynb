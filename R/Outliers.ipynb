{
 "cells": [
  {
   "cell_type": "markdown",
   "metadata": {},
   "source": [
    "### Outliers"
   ]
  },
  {
   "cell_type": "code",
   "execution_count": 1,
   "metadata": {},
   "outputs": [
    {
     "data": {
      "image/png": "[encoded data removed]",
      "text/plain": [
       "plot without title"
      ]
     },
     "metadata": {
      "image/png": {
       "height": 420,
       "width": 420
      },
      "text/plain": {
       "height": 420,
       "width": 420
      }
     },
     "output_type": "display_data"
    }
   ],
   "source": [
    "boxplot(iris$Sepal.Width)"
   ]
  },
  {
   "cell_type": "code",
   "execution_count": 2,
   "metadata": {},
   "outputs": [
    {
     "data": {
      "image/png": "[encoded data removed]",
      "text/plain": [
       "plot without title"
      ]
     },
     "metadata": {
      "image/png": {
       "height": 420,
       "width": 420
      },
      "text/plain": {
       "height": 420,
       "width": 420
      }
     },
     "output_type": "display_data"
    }
   ],
   "source": [
    "boxplot(iris$Sepal.Width, outline=F)"
   ]
  },
  {
   "cell_type": "code",
   "execution_count": 3,
   "metadata": {},
   "outputs": [
    {
     "data": {
      "text/html": [
       "<dl>\n",
       "\t<dt>$stats</dt>\n",
       "\t\t<dd><ol class=list-inline>\n",
       "\t<li>2.2</li>\n",
       "\t<li>2.8</li>\n",
       "\t<li>3</li>\n",
       "\t<li>3.3</li>\n",
       "\t<li>4</li>\n",
       "</ol>\n",
       "</dd>\n",
       "\t<dt>$n</dt>\n",
       "\t\t<dd>150</dd>\n",
       "\t<dt>$conf</dt>\n",
       "\t\t<dd><ol class=list-inline>\n",
       "\t<li>2.93549677010671</li>\n",
       "\t<li>3.06450322989329</li>\n",
       "</ol>\n",
       "</dd>\n",
       "\t<dt>$out</dt>\n",
       "\t\t<dd><ol class=list-inline>\n",
       "\t<li>4.4</li>\n",
       "\t<li>4.1</li>\n",
       "\t<li>4.2</li>\n",
       "\t<li>2</li>\n",
       "</ol>\n",
       "</dd>\n",
       "</dl>\n"
      ],
      "text/latex": [
       "\\begin{description}\n",
       "\\item[\\$stats] \\begin{enumerate*}\n",
       "\\item 2.2\n",
       "\\item 2.8\n",
       "\\item 3\n",
       "\\item 3.3\n",
       "\\item 4\n",
       "\\end{enumerate*}\n",
       "\n",
       "\\item[\\$n] 150\n",
       "\\item[\\$conf] \\begin{enumerate*}\n",
       "\\item 2.93549677010671\n",
       "\\item 3.06450322989329\n",
       "\\end{enumerate*}\n",
       "\n",
       "\\item[\\$out] \\begin{enumerate*}\n",
       "\\item 4.4\n",
       "\\item 4.1\n",
       "\\item 4.2\n",
       "\\item 2\n",
       "\\end{enumerate*}\n",
       "\n",
       "\\end{description}\n"
      ],
      "text/markdown": [
       "$stats\n",
       ":   1. 2.2\n",
       "2. 2.8\n",
       "3. 3\n",
       "4. 3.3\n",
       "5. 4\n",
       "\n",
       "\n",
       "\n",
       "$n\n",
       ":   150\n",
       "$conf\n",
       ":   1. 2.93549677010671\n",
       "2. 3.06450322989329\n",
       "\n",
       "\n",
       "\n",
       "$out\n",
       ":   1. 4.4\n",
       "2. 4.1\n",
       "3. 4.2\n",
       "4. 2\n",
       "\n",
       "\n",
       "\n",
       "\n",
       "\n"
      ],
      "text/plain": [
       "$stats\n",
       "[1] 2.2 2.8 3.0 3.3 4.0\n",
       "\n",
       "$n\n",
       "[1] 150\n",
       "\n",
       "$conf\n",
       "[1] 2.935497 3.064503\n",
       "\n",
       "$out\n",
       "[1] 4.4 4.1 4.2 2.0\n"
      ]
     },
     "metadata": {},
     "output_type": "display_data"
    }
   ],
   "source": [
    "boxplot.stats(iris$Sepal.Width)"
   ]
  },
  {
   "cell_type": "code",
   "execution_count": 4,
   "metadata": {},
   "outputs": [
    {
     "name": "stdout",
     "output_type": "stream",
     "text": [
      "[1] 4.4 4.1 4.2 2.0\n"
     ]
    }
   ],
   "source": [
    "print(boxplot.stats(iris$Sepal.Width)$out)"
   ]
  },
  {
   "cell_type": "code",
   "execution_count": 5,
   "metadata": {},
   "outputs": [],
   "source": [
    "# install.packages(\"outliers\")\n",
    "library(outliers)"
   ]
  },
  {
   "cell_type": "code",
   "execution_count": 6,
   "metadata": {},
   "outputs": [
    {
     "data": {
      "text/html": [
       "4.4"
      ],
      "text/latex": [
       "4.4"
      ],
      "text/markdown": [
       "4.4"
      ],
      "text/plain": [
       "[1] 4.4"
      ]
     },
     "metadata": {},
     "output_type": "display_data"
    }
   ],
   "source": [
    "outlier(iris$Sepal.Width)"
   ]
  },
  {
   "cell_type": "code",
   "execution_count": 7,
   "metadata": {},
   "outputs": [
    {
     "data": {
      "text/html": [
       "2"
      ],
      "text/latex": [
       "2"
      ],
      "text/markdown": [
       "2"
      ],
      "text/plain": [
       "[1] 2"
      ]
     },
     "metadata": {},
     "output_type": "display_data"
    }
   ],
   "source": [
    "outlier(iris$Sepal.Width, opposite=T)"
   ]
  }
 ],
 "metadata": {
  "kernelspec": {
   "display_name": "R 3.3",
   "language": "R",
   "name": "ir33"
  },
  "language_info": {
   "codemirror_mode": "r",
   "file_extension": ".r",
   "mimetype": "text/x-r-source",
   "name": "R",
   "pygments_lexer": "r",
   "version": "3.6.1"
  }
 },
 "nbformat": 4,
 "nbformat_minor": 4
}
