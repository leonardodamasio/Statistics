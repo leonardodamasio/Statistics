{
 "cells": [
  {
   "cell_type": "code",
   "execution_count": 1,
   "metadata": {},
   "outputs": [],
   "source": [
    "# sample() # Amostra simples\n",
    "# strata() # Amostra estratificada\n",
    "# S.SY() # Amostra sistemática"
   ]
  },
  {
   "cell_type": "markdown",
   "metadata": {},
   "source": [
    "### Importando base"
   ]
  },
  {
   "cell_type": "code",
   "execution_count": 2,
   "metadata": {},
   "outputs": [
    {
     "data": {
      "text/html": [
       "<table>\n",
       "<caption>A data.frame: 150 × 5</caption>\n",
       "<thead>\n",
       "\t<tr><th scope=col>Sepal.Length</th><th scope=col>Sepal.Width</th><th scope=col>Petal.Length</th><th scope=col>Petal.Width</th><th scope=col>Species</th></tr>\n",
       "\t<tr><th scope=col>&lt;dbl&gt;</th><th scope=col>&lt;dbl&gt;</th><th scope=col>&lt;dbl&gt;</th><th scope=col>&lt;dbl&gt;</th><th scope=col>&lt;fct&gt;</th></tr>\n",
       "</thead>\n",
       "<tbody>\n",
       "\t<tr><td>5.1</td><td>3.5</td><td>1.4</td><td>0.2</td><td>setosa</td></tr>\n",
       "\t<tr><td>4.9</td><td>3.0</td><td>1.4</td><td>0.2</td><td>setosa</td></tr>\n",
       "\t<tr><td>4.7</td><td>3.2</td><td>1.3</td><td>0.2</td><td>setosa</td></tr>\n",
       "\t<tr><td>4.6</td><td>3.1</td><td>1.5</td><td>0.2</td><td>setosa</td></tr>\n",
       "\t<tr><td>5.0</td><td>3.6</td><td>1.4</td><td>0.2</td><td>setosa</td></tr>\n",
       "\t<tr><td>5.4</td><td>3.9</td><td>1.7</td><td>0.4</td><td>setosa</td></tr>\n",
       "\t<tr><td>4.6</td><td>3.4</td><td>1.4</td><td>0.3</td><td>setosa</td></tr>\n",
       "\t<tr><td>5.0</td><td>3.4</td><td>1.5</td><td>0.2</td><td>setosa</td></tr>\n",
       "\t<tr><td>4.4</td><td>2.9</td><td>1.4</td><td>0.2</td><td>setosa</td></tr>\n",
       "\t<tr><td>4.9</td><td>3.1</td><td>1.5</td><td>0.1</td><td>setosa</td></tr>\n",
       "\t<tr><td>5.4</td><td>3.7</td><td>1.5</td><td>0.2</td><td>setosa</td></tr>\n",
       "\t<tr><td>4.8</td><td>3.4</td><td>1.6</td><td>0.2</td><td>setosa</td></tr>\n",
       "\t<tr><td>4.8</td><td>3.0</td><td>1.4</td><td>0.1</td><td>setosa</td></tr>\n",
       "\t<tr><td>4.3</td><td>3.0</td><td>1.1</td><td>0.1</td><td>setosa</td></tr>\n",
       "\t<tr><td>5.8</td><td>4.0</td><td>1.2</td><td>0.2</td><td>setosa</td></tr>\n",
       "\t<tr><td>5.7</td><td>4.4</td><td>1.5</td><td>0.4</td><td>setosa</td></tr>\n",
       "\t<tr><td>5.4</td><td>3.9</td><td>1.3</td><td>0.4</td><td>setosa</td></tr>\n",
       "\t<tr><td>5.1</td><td>3.5</td><td>1.4</td><td>0.3</td><td>setosa</td></tr>\n",
       "\t<tr><td>5.7</td><td>3.8</td><td>1.7</td><td>0.3</td><td>setosa</td></tr>\n",
       "\t<tr><td>5.1</td><td>3.8</td><td>1.5</td><td>0.3</td><td>setosa</td></tr>\n",
       "\t<tr><td>5.4</td><td>3.4</td><td>1.7</td><td>0.2</td><td>setosa</td></tr>\n",
       "\t<tr><td>5.1</td><td>3.7</td><td>1.5</td><td>0.4</td><td>setosa</td></tr>\n",
       "\t<tr><td>4.6</td><td>3.6</td><td>1.0</td><td>0.2</td><td>setosa</td></tr>\n",
       "\t<tr><td>5.1</td><td>3.3</td><td>1.7</td><td>0.5</td><td>setosa</td></tr>\n",
       "\t<tr><td>4.8</td><td>3.4</td><td>1.9</td><td>0.2</td><td>setosa</td></tr>\n",
       "\t<tr><td>5.0</td><td>3.0</td><td>1.6</td><td>0.2</td><td>setosa</td></tr>\n",
       "\t<tr><td>5.0</td><td>3.4</td><td>1.6</td><td>0.4</td><td>setosa</td></tr>\n",
       "\t<tr><td>5.2</td><td>3.5</td><td>1.5</td><td>0.2</td><td>setosa</td></tr>\n",
       "\t<tr><td>5.2</td><td>3.4</td><td>1.4</td><td>0.2</td><td>setosa</td></tr>\n",
       "\t<tr><td>4.7</td><td>3.2</td><td>1.6</td><td>0.2</td><td>setosa</td></tr>\n",
       "\t<tr><td>...</td><td>...</td><td>...</td><td>...</td><td>...</td></tr>\n",
       "\t<tr><td>6.9</td><td>3.2</td><td>5.7</td><td>2.3</td><td>virginica</td></tr>\n",
       "\t<tr><td>5.6</td><td>2.8</td><td>4.9</td><td>2.0</td><td>virginica</td></tr>\n",
       "\t<tr><td>7.7</td><td>2.8</td><td>6.7</td><td>2.0</td><td>virginica</td></tr>\n",
       "\t<tr><td>6.3</td><td>2.7</td><td>4.9</td><td>1.8</td><td>virginica</td></tr>\n",
       "\t<tr><td>6.7</td><td>3.3</td><td>5.7</td><td>2.1</td><td>virginica</td></tr>\n",
       "\t<tr><td>7.2</td><td>3.2</td><td>6.0</td><td>1.8</td><td>virginica</td></tr>\n",
       "\t<tr><td>6.2</td><td>2.8</td><td>4.8</td><td>1.8</td><td>virginica</td></tr>\n",
       "\t<tr><td>6.1</td><td>3.0</td><td>4.9</td><td>1.8</td><td>virginica</td></tr>\n",
       "\t<tr><td>6.4</td><td>2.8</td><td>5.6</td><td>2.1</td><td>virginica</td></tr>\n",
       "\t<tr><td>7.2</td><td>3.0</td><td>5.8</td><td>1.6</td><td>virginica</td></tr>\n",
       "\t<tr><td>7.4</td><td>2.8</td><td>6.1</td><td>1.9</td><td>virginica</td></tr>\n",
       "\t<tr><td>7.9</td><td>3.8</td><td>6.4</td><td>2.0</td><td>virginica</td></tr>\n",
       "\t<tr><td>6.4</td><td>2.8</td><td>5.6</td><td>2.2</td><td>virginica</td></tr>\n",
       "\t<tr><td>6.3</td><td>2.8</td><td>5.1</td><td>1.5</td><td>virginica</td></tr>\n",
       "\t<tr><td>6.1</td><td>2.6</td><td>5.6</td><td>1.4</td><td>virginica</td></tr>\n",
       "\t<tr><td>7.7</td><td>3.0</td><td>6.1</td><td>2.3</td><td>virginica</td></tr>\n",
       "\t<tr><td>6.3</td><td>3.4</td><td>5.6</td><td>2.4</td><td>virginica</td></tr>\n",
       "\t<tr><td>6.4</td><td>3.1</td><td>5.5</td><td>1.8</td><td>virginica</td></tr>\n",
       "\t<tr><td>6.0</td><td>3.0</td><td>4.8</td><td>1.8</td><td>virginica</td></tr>\n",
       "\t<tr><td>6.9</td><td>3.1</td><td>5.4</td><td>2.1</td><td>virginica</td></tr>\n",
       "\t<tr><td>6.7</td><td>3.1</td><td>5.6</td><td>2.4</td><td>virginica</td></tr>\n",
       "\t<tr><td>6.9</td><td>3.1</td><td>5.1</td><td>2.3</td><td>virginica</td></tr>\n",
       "\t<tr><td>5.8</td><td>2.7</td><td>5.1</td><td>1.9</td><td>virginica</td></tr>\n",
       "\t<tr><td>6.8</td><td>3.2</td><td>5.9</td><td>2.3</td><td>virginica</td></tr>\n",
       "\t<tr><td>6.7</td><td>3.3</td><td>5.7</td><td>2.5</td><td>virginica</td></tr>\n",
       "\t<tr><td>6.7</td><td>3.0</td><td>5.2</td><td>2.3</td><td>virginica</td></tr>\n",
       "\t<tr><td>6.3</td><td>2.5</td><td>5.0</td><td>1.9</td><td>virginica</td></tr>\n",
       "\t<tr><td>6.5</td><td>3.0</td><td>5.2</td><td>2.0</td><td>virginica</td></tr>\n",
       "\t<tr><td>6.2</td><td>3.4</td><td>5.4</td><td>2.3</td><td>virginica</td></tr>\n",
       "\t<tr><td>5.9</td><td>3.0</td><td>5.1</td><td>1.8</td><td>virginica</td></tr>\n",
       "</tbody>\n",
       "</table>\n"
      ],
      "text/latex": [
       "A data.frame: 150 × 5\n",
       "\\begin{tabular}{r|lllll}\n",
       " Sepal.Length & Sepal.Width & Petal.Length & Petal.Width & Species\\\\\n",
       " <dbl> & <dbl> & <dbl> & <dbl> & <fct>\\\\\n",
       "\\hline\n",
       "\t 5.1 & 3.5 & 1.4 & 0.2 & setosa\\\\\n",
       "\t 4.9 & 3.0 & 1.4 & 0.2 & setosa\\\\\n",
       "\t 4.7 & 3.2 & 1.3 & 0.2 & setosa\\\\\n",
       "\t 4.6 & 3.1 & 1.5 & 0.2 & setosa\\\\\n",
       "\t 5.0 & 3.6 & 1.4 & 0.2 & setosa\\\\\n",
       "\t 5.4 & 3.9 & 1.7 & 0.4 & setosa\\\\\n",
       "\t 4.6 & 3.4 & 1.4 & 0.3 & setosa\\\\\n",
       "\t 5.0 & 3.4 & 1.5 & 0.2 & setosa\\\\\n",
       "\t 4.4 & 2.9 & 1.4 & 0.2 & setosa\\\\\n",
       "\t 4.9 & 3.1 & 1.5 & 0.1 & setosa\\\\\n",
       "\t 5.4 & 3.7 & 1.5 & 0.2 & setosa\\\\\n",
       "\t 4.8 & 3.4 & 1.6 & 0.2 & setosa\\\\\n",
       "\t 4.8 & 3.0 & 1.4 & 0.1 & setosa\\\\\n",
       "\t 4.3 & 3.0 & 1.1 & 0.1 & setosa\\\\\n",
       "\t 5.8 & 4.0 & 1.2 & 0.2 & setosa\\\\\n",
       "\t 5.7 & 4.4 & 1.5 & 0.4 & setosa\\\\\n",
       "\t 5.4 & 3.9 & 1.3 & 0.4 & setosa\\\\\n",
       "\t 5.1 & 3.5 & 1.4 & 0.3 & setosa\\\\\n",
       "\t 5.7 & 3.8 & 1.7 & 0.3 & setosa\\\\\n",
       "\t 5.1 & 3.8 & 1.5 & 0.3 & setosa\\\\\n",
       "\t 5.4 & 3.4 & 1.7 & 0.2 & setosa\\\\\n",
       "\t 5.1 & 3.7 & 1.5 & 0.4 & setosa\\\\\n",
       "\t 4.6 & 3.6 & 1.0 & 0.2 & setosa\\\\\n",
       "\t 5.1 & 3.3 & 1.7 & 0.5 & setosa\\\\\n",
       "\t 4.8 & 3.4 & 1.9 & 0.2 & setosa\\\\\n",
       "\t 5.0 & 3.0 & 1.6 & 0.2 & setosa\\\\\n",
       "\t 5.0 & 3.4 & 1.6 & 0.4 & setosa\\\\\n",
       "\t 5.2 & 3.5 & 1.5 & 0.2 & setosa\\\\\n",
       "\t 5.2 & 3.4 & 1.4 & 0.2 & setosa\\\\\n",
       "\t 4.7 & 3.2 & 1.6 & 0.2 & setosa\\\\\n",
       "\t ... & ... & ... & ... & ...\\\\\n",
       "\t 6.9 & 3.2 & 5.7 & 2.3 & virginica\\\\\n",
       "\t 5.6 & 2.8 & 4.9 & 2.0 & virginica\\\\\n",
       "\t 7.7 & 2.8 & 6.7 & 2.0 & virginica\\\\\n",
       "\t 6.3 & 2.7 & 4.9 & 1.8 & virginica\\\\\n",
       "\t 6.7 & 3.3 & 5.7 & 2.1 & virginica\\\\\n",
       "\t 7.2 & 3.2 & 6.0 & 1.8 & virginica\\\\\n",
       "\t 6.2 & 2.8 & 4.8 & 1.8 & virginica\\\\\n",
       "\t 6.1 & 3.0 & 4.9 & 1.8 & virginica\\\\\n",
       "\t 6.4 & 2.8 & 5.6 & 2.1 & virginica\\\\\n",
       "\t 7.2 & 3.0 & 5.8 & 1.6 & virginica\\\\\n",
       "\t 7.4 & 2.8 & 6.1 & 1.9 & virginica\\\\\n",
       "\t 7.9 & 3.8 & 6.4 & 2.0 & virginica\\\\\n",
       "\t 6.4 & 2.8 & 5.6 & 2.2 & virginica\\\\\n",
       "\t 6.3 & 2.8 & 5.1 & 1.5 & virginica\\\\\n",
       "\t 6.1 & 2.6 & 5.6 & 1.4 & virginica\\\\\n",
       "\t 7.7 & 3.0 & 6.1 & 2.3 & virginica\\\\\n",
       "\t 6.3 & 3.4 & 5.6 & 2.4 & virginica\\\\\n",
       "\t 6.4 & 3.1 & 5.5 & 1.8 & virginica\\\\\n",
       "\t 6.0 & 3.0 & 4.8 & 1.8 & virginica\\\\\n",
       "\t 6.9 & 3.1 & 5.4 & 2.1 & virginica\\\\\n",
       "\t 6.7 & 3.1 & 5.6 & 2.4 & virginica\\\\\n",
       "\t 6.9 & 3.1 & 5.1 & 2.3 & virginica\\\\\n",
       "\t 5.8 & 2.7 & 5.1 & 1.9 & virginica\\\\\n",
       "\t 6.8 & 3.2 & 5.9 & 2.3 & virginica\\\\\n",
       "\t 6.7 & 3.3 & 5.7 & 2.5 & virginica\\\\\n",
       "\t 6.7 & 3.0 & 5.2 & 2.3 & virginica\\\\\n",
       "\t 6.3 & 2.5 & 5.0 & 1.9 & virginica\\\\\n",
       "\t 6.5 & 3.0 & 5.2 & 2.0 & virginica\\\\\n",
       "\t 6.2 & 3.4 & 5.4 & 2.3 & virginica\\\\\n",
       "\t 5.9 & 3.0 & 5.1 & 1.8 & virginica\\\\\n",
       "\\end{tabular}\n"
      ],
      "text/markdown": [
       "\n",
       "A data.frame: 150 × 5\n",
       "\n",
       "| Sepal.Length &lt;dbl&gt; | Sepal.Width &lt;dbl&gt; | Petal.Length &lt;dbl&gt; | Petal.Width &lt;dbl&gt; | Species &lt;fct&gt; |\n",
       "|---|---|---|---|---|\n",
       "| 5.1 | 3.5 | 1.4 | 0.2 | setosa |\n",
       "| 4.9 | 3.0 | 1.4 | 0.2 | setosa |\n",
       "| 4.7 | 3.2 | 1.3 | 0.2 | setosa |\n",
       "| 4.6 | 3.1 | 1.5 | 0.2 | setosa |\n",
       "| 5.0 | 3.6 | 1.4 | 0.2 | setosa |\n",
       "| 5.4 | 3.9 | 1.7 | 0.4 | setosa |\n",
       "| 4.6 | 3.4 | 1.4 | 0.3 | setosa |\n",
       "| 5.0 | 3.4 | 1.5 | 0.2 | setosa |\n",
       "| 4.4 | 2.9 | 1.4 | 0.2 | setosa |\n",
       "| 4.9 | 3.1 | 1.5 | 0.1 | setosa |\n",
       "| 5.4 | 3.7 | 1.5 | 0.2 | setosa |\n",
       "| 4.8 | 3.4 | 1.6 | 0.2 | setosa |\n",
       "| 4.8 | 3.0 | 1.4 | 0.1 | setosa |\n",
       "| 4.3 | 3.0 | 1.1 | 0.1 | setosa |\n",
       "| 5.8 | 4.0 | 1.2 | 0.2 | setosa |\n",
       "| 5.7 | 4.4 | 1.5 | 0.4 | setosa |\n",
       "| 5.4 | 3.9 | 1.3 | 0.4 | setosa |\n",
       "| 5.1 | 3.5 | 1.4 | 0.3 | setosa |\n",
       "| 5.7 | 3.8 | 1.7 | 0.3 | setosa |\n",
       "| 5.1 | 3.8 | 1.5 | 0.3 | setosa |\n",
       "| 5.4 | 3.4 | 1.7 | 0.2 | setosa |\n",
       "| 5.1 | 3.7 | 1.5 | 0.4 | setosa |\n",
       "| 4.6 | 3.6 | 1.0 | 0.2 | setosa |\n",
       "| 5.1 | 3.3 | 1.7 | 0.5 | setosa |\n",
       "| 4.8 | 3.4 | 1.9 | 0.2 | setosa |\n",
       "| 5.0 | 3.0 | 1.6 | 0.2 | setosa |\n",
       "| 5.0 | 3.4 | 1.6 | 0.4 | setosa |\n",
       "| 5.2 | 3.5 | 1.5 | 0.2 | setosa |\n",
       "| 5.2 | 3.4 | 1.4 | 0.2 | setosa |\n",
       "| 4.7 | 3.2 | 1.6 | 0.2 | setosa |\n",
       "| ... | ... | ... | ... | ... |\n",
       "| 6.9 | 3.2 | 5.7 | 2.3 | virginica |\n",
       "| 5.6 | 2.8 | 4.9 | 2.0 | virginica |\n",
       "| 7.7 | 2.8 | 6.7 | 2.0 | virginica |\n",
       "| 6.3 | 2.7 | 4.9 | 1.8 | virginica |\n",
       "| 6.7 | 3.3 | 5.7 | 2.1 | virginica |\n",
       "| 7.2 | 3.2 | 6.0 | 1.8 | virginica |\n",
       "| 6.2 | 2.8 | 4.8 | 1.8 | virginica |\n",
       "| 6.1 | 3.0 | 4.9 | 1.8 | virginica |\n",
       "| 6.4 | 2.8 | 5.6 | 2.1 | virginica |\n",
       "| 7.2 | 3.0 | 5.8 | 1.6 | virginica |\n",
       "| 7.4 | 2.8 | 6.1 | 1.9 | virginica |\n",
       "| 7.9 | 3.8 | 6.4 | 2.0 | virginica |\n",
       "| 6.4 | 2.8 | 5.6 | 2.2 | virginica |\n",
       "| 6.3 | 2.8 | 5.1 | 1.5 | virginica |\n",
       "| 6.1 | 2.6 | 5.6 | 1.4 | virginica |\n",
       "| 7.7 | 3.0 | 6.1 | 2.3 | virginica |\n",
       "| 6.3 | 3.4 | 5.6 | 2.4 | virginica |\n",
       "| 6.4 | 3.1 | 5.5 | 1.8 | virginica |\n",
       "| 6.0 | 3.0 | 4.8 | 1.8 | virginica |\n",
       "| 6.9 | 3.1 | 5.4 | 2.1 | virginica |\n",
       "| 6.7 | 3.1 | 5.6 | 2.4 | virginica |\n",
       "| 6.9 | 3.1 | 5.1 | 2.3 | virginica |\n",
       "| 5.8 | 2.7 | 5.1 | 1.9 | virginica |\n",
       "| 6.8 | 3.2 | 5.9 | 2.3 | virginica |\n",
       "| 6.7 | 3.3 | 5.7 | 2.5 | virginica |\n",
       "| 6.7 | 3.0 | 5.2 | 2.3 | virginica |\n",
       "| 6.3 | 2.5 | 5.0 | 1.9 | virginica |\n",
       "| 6.5 | 3.0 | 5.2 | 2.0 | virginica |\n",
       "| 6.2 | 3.4 | 5.4 | 2.3 | virginica |\n",
       "| 5.9 | 3.0 | 5.1 | 1.8 | virginica |\n",
       "\n"
      ],
      "text/plain": [
       "    Sepal.Length Sepal.Width Petal.Length Petal.Width Species  \n",
       "1   5.1          3.5         1.4          0.2         setosa   \n",
       "2   4.9          3.0         1.4          0.2         setosa   \n",
       "3   4.7          3.2         1.3          0.2         setosa   \n",
       "4   4.6          3.1         1.5          0.2         setosa   \n",
       "5   5.0          3.6         1.4          0.2         setosa   \n",
       "6   5.4          3.9         1.7          0.4         setosa   \n",
       "7   4.6          3.4         1.4          0.3         setosa   \n",
       "8   5.0          3.4         1.5          0.2         setosa   \n",
       "9   4.4          2.9         1.4          0.2         setosa   \n",
       "10  4.9          3.1         1.5          0.1         setosa   \n",
       "11  5.4          3.7         1.5          0.2         setosa   \n",
       "12  4.8          3.4         1.6          0.2         setosa   \n",
       "13  4.8          3.0         1.4          0.1         setosa   \n",
       "14  4.3          3.0         1.1          0.1         setosa   \n",
       "15  5.8          4.0         1.2          0.2         setosa   \n",
       "16  5.7          4.4         1.5          0.4         setosa   \n",
       "17  5.4          3.9         1.3          0.4         setosa   \n",
       "18  5.1          3.5         1.4          0.3         setosa   \n",
       "19  5.7          3.8         1.7          0.3         setosa   \n",
       "20  5.1          3.8         1.5          0.3         setosa   \n",
       "21  5.4          3.4         1.7          0.2         setosa   \n",
       "22  5.1          3.7         1.5          0.4         setosa   \n",
       "23  4.6          3.6         1.0          0.2         setosa   \n",
       "24  5.1          3.3         1.7          0.5         setosa   \n",
       "25  4.8          3.4         1.9          0.2         setosa   \n",
       "26  5.0          3.0         1.6          0.2         setosa   \n",
       "27  5.0          3.4         1.6          0.4         setosa   \n",
       "28  5.2          3.5         1.5          0.2         setosa   \n",
       "29  5.2          3.4         1.4          0.2         setosa   \n",
       "30  4.7          3.2         1.6          0.2         setosa   \n",
       "... ...          ...         ...          ...         ...      \n",
       "121 6.9          3.2         5.7          2.3         virginica\n",
       "122 5.6          2.8         4.9          2.0         virginica\n",
       "123 7.7          2.8         6.7          2.0         virginica\n",
       "124 6.3          2.7         4.9          1.8         virginica\n",
       "125 6.7          3.3         5.7          2.1         virginica\n",
       "126 7.2          3.2         6.0          1.8         virginica\n",
       "127 6.2          2.8         4.8          1.8         virginica\n",
       "128 6.1          3.0         4.9          1.8         virginica\n",
       "129 6.4          2.8         5.6          2.1         virginica\n",
       "130 7.2          3.0         5.8          1.6         virginica\n",
       "131 7.4          2.8         6.1          1.9         virginica\n",
       "132 7.9          3.8         6.4          2.0         virginica\n",
       "133 6.4          2.8         5.6          2.2         virginica\n",
       "134 6.3          2.8         5.1          1.5         virginica\n",
       "135 6.1          2.6         5.6          1.4         virginica\n",
       "136 7.7          3.0         6.1          2.3         virginica\n",
       "137 6.3          3.4         5.6          2.4         virginica\n",
       "138 6.4          3.1         5.5          1.8         virginica\n",
       "139 6.0          3.0         4.8          1.8         virginica\n",
       "140 6.9          3.1         5.4          2.1         virginica\n",
       "141 6.7          3.1         5.6          2.4         virginica\n",
       "142 6.9          3.1         5.1          2.3         virginica\n",
       "143 5.8          2.7         5.1          1.9         virginica\n",
       "144 6.8          3.2         5.9          2.3         virginica\n",
       "145 6.7          3.3         5.7          2.5         virginica\n",
       "146 6.7          3.0         5.2          2.3         virginica\n",
       "147 6.3          2.5         5.0          1.9         virginica\n",
       "148 6.5          3.0         5.2          2.0         virginica\n",
       "149 6.2          3.4         5.4          2.3         virginica\n",
       "150 5.9          3.0         5.1          1.8         virginica"
      ]
     },
     "metadata": {},
     "output_type": "display_data"
    }
   ],
   "source": [
    "iris"
   ]
  },
  {
   "cell_type": "code",
   "execution_count": 3,
   "metadata": {},
   "outputs": [
    {
     "name": "stdout",
     "output_type": "stream",
     "text": [
      "[1] 150   5\n"
     ]
    }
   ],
   "source": [
    "print(dim(iris))"
   ]
  },
  {
   "cell_type": "markdown",
   "metadata": {},
   "source": [
    "### Amostra Aleatória Simples"
   ]
  },
  {
   "cell_type": "code",
   "execution_count": 4,
   "metadata": {},
   "outputs": [
    {
     "name": "stdout",
     "output_type": "stream",
     "text": [
      " [1] 0 1 1 0 0 1 0 0 0 0\n"
     ]
    }
   ],
   "source": [
    "set.seed(0)\n",
    "# amostra = sample(x = c(0,1), size = 150, replace=TRUE, prob = c(0.5,0.5))\n",
    "amostra = sample(c(0,1), 150, TRUE, c(0.5,0.5))\n",
    "print(head(amostra, n=10))"
   ]
  },
  {
   "cell_type": "code",
   "execution_count": 5,
   "metadata": {},
   "outputs": [
    {
     "data": {
      "text/html": [
       "150"
      ],
      "text/latex": [
       "150"
      ],
      "text/markdown": [
       "150"
      ],
      "text/plain": [
       "[1] 150"
      ]
     },
     "metadata": {},
     "output_type": "display_data"
    },
    {
     "data": {
      "text/html": [
       "76"
      ],
      "text/latex": [
       "76"
      ],
      "text/markdown": [
       "76"
      ],
      "text/plain": [
       "[1] 76"
      ]
     },
     "metadata": {},
     "output_type": "display_data"
    },
    {
     "data": {
      "text/html": [
       "74"
      ],
      "text/latex": [
       "74"
      ],
      "text/markdown": [
       "74"
      ],
      "text/plain": [
       "[1] 74"
      ]
     },
     "metadata": {},
     "output_type": "display_data"
    }
   ],
   "source": [
    "length(amostra)\n",
    "length(amostra[amostra==1])\n",
    "length(amostra[amostra==0])"
   ]
  },
  {
   "cell_type": "markdown",
   "metadata": {},
   "source": [
    "### Amostra Aleatória Estratificada"
   ]
  },
  {
   "cell_type": "code",
   "execution_count": 6,
   "metadata": {},
   "outputs": [],
   "source": [
    "# install.packages(\"sampling\")\n",
    "library(sampling)"
   ]
  },
  {
   "cell_type": "code",
   "execution_count": 7,
   "metadata": {},
   "outputs": [
    {
     "data": {
      "text/plain": [
       "  Sepal.Length    Sepal.Width     Petal.Length    Petal.Width   \n",
       " Min.   :4.300   Min.   :2.000   Min.   :1.000   Min.   :0.100  \n",
       " 1st Qu.:5.100   1st Qu.:2.800   1st Qu.:1.600   1st Qu.:0.300  \n",
       " Median :5.800   Median :3.000   Median :4.350   Median :1.300  \n",
       " Mean   :5.843   Mean   :3.057   Mean   :3.758   Mean   :1.199  \n",
       " 3rd Qu.:6.400   3rd Qu.:3.300   3rd Qu.:5.100   3rd Qu.:1.800  \n",
       " Max.   :7.900   Max.   :4.400   Max.   :6.900   Max.   :2.500  \n",
       "       Species  \n",
       " setosa    :50  \n",
       " versicolor:50  \n",
       " virginica :50  \n",
       "                \n",
       "                \n",
       "                "
      ]
     },
     "metadata": {},
     "output_type": "display_data"
    }
   ],
   "source": [
    "summary(iris)"
   ]
  },
  {
   "cell_type": "code",
   "execution_count": 8,
   "metadata": {},
   "outputs": [
    {
     "data": {
      "text/plain": [
       "       Species      ID_unit            Prob        Stratum \n",
       " setosa    :25   Min.   :  1.00   Min.   :0.5   Min.   :1  \n",
       " versicolor:25   1st Qu.: 36.50   1st Qu.:0.5   1st Qu.:1  \n",
       " virginica :25   Median : 78.00   Median :0.5   Median :2  \n",
       "                 Mean   : 75.71   Mean   :0.5   Mean   :2  \n",
       "                 3rd Qu.:109.50   3rd Qu.:0.5   3rd Qu.:3  \n",
       "                 Max.   :149.00   Max.   :0.5   Max.   :3  "
      ]
     },
     "metadata": {},
     "output_type": "display_data"
    }
   ],
   "source": [
    "amostrairis2 = strata(iris, c(\"Species\"), size = c(25,25,25), method = \"srswor\")\n",
    "summary(amostrairis2)"
   ]
  },
  {
   "cell_type": "code",
   "execution_count": 9,
   "metadata": {},
   "outputs": [
    {
     "data": {
      "text/html": [
       "<table>\n",
       "<caption>A data.frame: 248 × 8</caption>\n",
       "<thead>\n",
       "\t<tr><th scope=col>education</th><th scope=col>age</th><th scope=col>parity</th><th scope=col>induced</th><th scope=col>case</th><th scope=col>spontaneous</th><th scope=col>stratum</th><th scope=col>pooled.stratum</th></tr>\n",
       "\t<tr><th scope=col>&lt;fct&gt;</th><th scope=col>&lt;dbl&gt;</th><th scope=col>&lt;dbl&gt;</th><th scope=col>&lt;dbl&gt;</th><th scope=col>&lt;dbl&gt;</th><th scope=col>&lt;dbl&gt;</th><th scope=col>&lt;int&gt;</th><th scope=col>&lt;dbl&gt;</th></tr>\n",
       "</thead>\n",
       "<tbody>\n",
       "\t<tr><td>0-5yrs </td><td>26</td><td>6</td><td>1</td><td>1</td><td>2</td><td> 1</td><td> 3</td></tr>\n",
       "\t<tr><td>0-5yrs </td><td>42</td><td>1</td><td>1</td><td>1</td><td>0</td><td> 2</td><td> 1</td></tr>\n",
       "\t<tr><td>0-5yrs </td><td>39</td><td>6</td><td>2</td><td>1</td><td>0</td><td> 3</td><td> 4</td></tr>\n",
       "\t<tr><td>0-5yrs </td><td>34</td><td>4</td><td>2</td><td>1</td><td>0</td><td> 4</td><td> 2</td></tr>\n",
       "\t<tr><td>6-11yrs</td><td>35</td><td>3</td><td>1</td><td>1</td><td>1</td><td> 5</td><td>32</td></tr>\n",
       "\t<tr><td>6-11yrs</td><td>36</td><td>4</td><td>2</td><td>1</td><td>1</td><td> 6</td><td>36</td></tr>\n",
       "\t<tr><td>6-11yrs</td><td>23</td><td>1</td><td>0</td><td>1</td><td>0</td><td> 7</td><td> 6</td></tr>\n",
       "\t<tr><td>6-11yrs</td><td>32</td><td>2</td><td>0</td><td>1</td><td>0</td><td> 8</td><td>22</td></tr>\n",
       "\t<tr><td>6-11yrs</td><td>21</td><td>1</td><td>0</td><td>1</td><td>1</td><td> 9</td><td> 5</td></tr>\n",
       "\t<tr><td>6-11yrs</td><td>28</td><td>2</td><td>0</td><td>1</td><td>0</td><td>10</td><td>19</td></tr>\n",
       "\t<tr><td>6-11yrs</td><td>29</td><td>2</td><td>1</td><td>1</td><td>0</td><td>11</td><td>20</td></tr>\n",
       "\t<tr><td>6-11yrs</td><td>37</td><td>4</td><td>2</td><td>1</td><td>1</td><td>12</td><td>37</td></tr>\n",
       "\t<tr><td>6-11yrs</td><td>31</td><td>1</td><td>1</td><td>1</td><td>0</td><td>13</td><td> 9</td></tr>\n",
       "\t<tr><td>6-11yrs</td><td>29</td><td>3</td><td>2</td><td>1</td><td>0</td><td>14</td><td>29</td></tr>\n",
       "\t<tr><td>6-11yrs</td><td>31</td><td>2</td><td>1</td><td>1</td><td>1</td><td>15</td><td>21</td></tr>\n",
       "\t<tr><td>6-11yrs</td><td>27</td><td>2</td><td>2</td><td>1</td><td>0</td><td>16</td><td>18</td></tr>\n",
       "\t<tr><td>6-11yrs</td><td>30</td><td>5</td><td>2</td><td>1</td><td>1</td><td>17</td><td>38</td></tr>\n",
       "\t<tr><td>6-11yrs</td><td>26</td><td>1</td><td>0</td><td>1</td><td>1</td><td>18</td><td> 7</td></tr>\n",
       "\t<tr><td>6-11yrs</td><td>25</td><td>3</td><td>2</td><td>1</td><td>1</td><td>19</td><td>28</td></tr>\n",
       "\t<tr><td>6-11yrs</td><td>44</td><td>1</td><td>0</td><td>1</td><td>1</td><td>20</td><td>17</td></tr>\n",
       "\t<tr><td>6-11yrs</td><td>40</td><td>1</td><td>0</td><td>1</td><td>1</td><td>21</td><td>14</td></tr>\n",
       "\t<tr><td>6-11yrs</td><td>35</td><td>2</td><td>2</td><td>1</td><td>0</td><td>22</td><td>24</td></tr>\n",
       "\t<tr><td>6-11yrs</td><td>28</td><td>2</td><td>0</td><td>1</td><td>2</td><td>23</td><td>19</td></tr>\n",
       "\t<tr><td>6-11yrs</td><td>36</td><td>1</td><td>0</td><td>1</td><td>1</td><td>24</td><td>12</td></tr>\n",
       "\t<tr><td>6-11yrs</td><td>27</td><td>2</td><td>1</td><td>1</td><td>1</td><td>25</td><td>18</td></tr>\n",
       "\t<tr><td>6-11yrs</td><td>40</td><td>2</td><td>0</td><td>1</td><td>2</td><td>26</td><td>27</td></tr>\n",
       "\t<tr><td>6-11yrs</td><td>38</td><td>2</td><td>0</td><td>1</td><td>2</td><td>27</td><td>26</td></tr>\n",
       "\t<tr><td>6-11yrs</td><td>34</td><td>3</td><td>0</td><td>1</td><td>2</td><td>28</td><td>31</td></tr>\n",
       "\t<tr><td>6-11yrs</td><td>28</td><td>4</td><td>1</td><td>1</td><td>2</td><td>29</td><td>34</td></tr>\n",
       "\t<tr><td>6-11yrs</td><td>30</td><td>4</td><td>2</td><td>1</td><td>0</td><td>30</td><td>35</td></tr>\n",
       "\t<tr><td>...</td><td>...</td><td>...</td><td>...</td><td>...</td><td>...</td><td>...</td><td>...</td></tr>\n",
       "\t<tr><td>12+ yrs</td><td>28</td><td>1</td><td>0</td><td>0</td><td>1</td><td>54</td><td>42</td></tr>\n",
       "\t<tr><td>12+ yrs</td><td>29</td><td>2</td><td>1</td><td>0</td><td>1</td><td>55</td><td>52</td></tr>\n",
       "\t<tr><td>12+ yrs</td><td>36</td><td>2</td><td>0</td><td>0</td><td>1</td><td>56</td><td>55</td></tr>\n",
       "\t<tr><td>12+ yrs</td><td>28</td><td>2</td><td>2</td><td>0</td><td>0</td><td>57</td><td>51</td></tr>\n",
       "\t<tr><td>12+ yrs</td><td>28</td><td>2</td><td>1</td><td>0</td><td>0</td><td>58</td><td>51</td></tr>\n",
       "\t<tr><td>12+ yrs</td><td>28</td><td>1</td><td>0</td><td>0</td><td>0</td><td>59</td><td>42</td></tr>\n",
       "\t<tr><td>12+ yrs</td><td>27</td><td>2</td><td>1</td><td>0</td><td>0</td><td>60</td><td>50</td></tr>\n",
       "\t<tr><td>12+ yrs</td><td>35</td><td>2</td><td>1</td><td>0</td><td>0</td><td>61</td><td>54</td></tr>\n",
       "\t<tr><td>12+ yrs</td><td>25</td><td>1</td><td>1</td><td>0</td><td>0</td><td>62</td><td>41</td></tr>\n",
       "\t<tr><td>12+ yrs</td><td>34</td><td>1</td><td>0</td><td>0</td><td>0</td><td>63</td><td>47</td></tr>\n",
       "\t<tr><td>12+ yrs</td><td>31</td><td>2</td><td>1</td><td>0</td><td>0</td><td>64</td><td>53</td></tr>\n",
       "\t<tr><td>12+ yrs</td><td>26</td><td>2</td><td>0</td><td>0</td><td>2</td><td>65</td><td>49</td></tr>\n",
       "\t<tr><td>12+ yrs</td><td>32</td><td>1</td><td>1</td><td>0</td><td>0</td><td>66</td><td>46</td></tr>\n",
       "\t<tr><td>12+ yrs</td><td>21</td><td>1</td><td>0</td><td>0</td><td>0</td><td>67</td><td>39</td></tr>\n",
       "\t<tr><td>12+ yrs</td><td>28</td><td>3</td><td>2</td><td>0</td><td>0</td><td>68</td><td>58</td></tr>\n",
       "\t<tr><td>12+ yrs</td><td>37</td><td>3</td><td>0</td><td>0</td><td>2</td><td>69</td><td>59</td></tr>\n",
       "\t<tr><td>12+ yrs</td><td>25</td><td>1</td><td>1</td><td>0</td><td>0</td><td>70</td><td>41</td></tr>\n",
       "\t<tr><td>12+ yrs</td><td>32</td><td>1</td><td>0</td><td>0</td><td>0</td><td>71</td><td>46</td></tr>\n",
       "\t<tr><td>12+ yrs</td><td>25</td><td>1</td><td>1</td><td>0</td><td>0</td><td>72</td><td>41</td></tr>\n",
       "\t<tr><td>12+ yrs</td><td>31</td><td>1</td><td>0</td><td>0</td><td>0</td><td>73</td><td>45</td></tr>\n",
       "\t<tr><td>12+ yrs</td><td>38</td><td>6</td><td>0</td><td>0</td><td>2</td><td>74</td><td>63</td></tr>\n",
       "\t<tr><td>12+ yrs</td><td>26</td><td>2</td><td>1</td><td>0</td><td>1</td><td>75</td><td>49</td></tr>\n",
       "\t<tr><td>12+ yrs</td><td>31</td><td>1</td><td>1</td><td>0</td><td>0</td><td>76</td><td>45</td></tr>\n",
       "\t<tr><td>12+ yrs</td><td>31</td><td>2</td><td>0</td><td>0</td><td>1</td><td>77</td><td>53</td></tr>\n",
       "\t<tr><td>12+ yrs</td><td>25</td><td>1</td><td>0</td><td>0</td><td>1</td><td>78</td><td>41</td></tr>\n",
       "\t<tr><td>12+ yrs</td><td>31</td><td>1</td><td>0</td><td>0</td><td>1</td><td>79</td><td>45</td></tr>\n",
       "\t<tr><td>12+ yrs</td><td>34</td><td>1</td><td>0</td><td>0</td><td>0</td><td>80</td><td>47</td></tr>\n",
       "\t<tr><td>12+ yrs</td><td>35</td><td>2</td><td>2</td><td>0</td><td>0</td><td>81</td><td>54</td></tr>\n",
       "\t<tr><td>12+ yrs</td><td>29</td><td>1</td><td>0</td><td>0</td><td>1</td><td>82</td><td>43</td></tr>\n",
       "\t<tr><td>12+ yrs</td><td>23</td><td>1</td><td>0</td><td>0</td><td>1</td><td>83</td><td>40</td></tr>\n",
       "</tbody>\n",
       "</table>\n"
      ],
      "text/latex": [
       "A data.frame: 248 × 8\n",
       "\\begin{tabular}{r|llllllll}\n",
       " education & age & parity & induced & case & spontaneous & stratum & pooled.stratum\\\\\n",
       " <fct> & <dbl> & <dbl> & <dbl> & <dbl> & <dbl> & <int> & <dbl>\\\\\n",
       "\\hline\n",
       "\t 0-5yrs  & 26 & 6 & 1 & 1 & 2 &  1 &  3\\\\\n",
       "\t 0-5yrs  & 42 & 1 & 1 & 1 & 0 &  2 &  1\\\\\n",
       "\t 0-5yrs  & 39 & 6 & 2 & 1 & 0 &  3 &  4\\\\\n",
       "\t 0-5yrs  & 34 & 4 & 2 & 1 & 0 &  4 &  2\\\\\n",
       "\t 6-11yrs & 35 & 3 & 1 & 1 & 1 &  5 & 32\\\\\n",
       "\t 6-11yrs & 36 & 4 & 2 & 1 & 1 &  6 & 36\\\\\n",
       "\t 6-11yrs & 23 & 1 & 0 & 1 & 0 &  7 &  6\\\\\n",
       "\t 6-11yrs & 32 & 2 & 0 & 1 & 0 &  8 & 22\\\\\n",
       "\t 6-11yrs & 21 & 1 & 0 & 1 & 1 &  9 &  5\\\\\n",
       "\t 6-11yrs & 28 & 2 & 0 & 1 & 0 & 10 & 19\\\\\n",
       "\t 6-11yrs & 29 & 2 & 1 & 1 & 0 & 11 & 20\\\\\n",
       "\t 6-11yrs & 37 & 4 & 2 & 1 & 1 & 12 & 37\\\\\n",
       "\t 6-11yrs & 31 & 1 & 1 & 1 & 0 & 13 &  9\\\\\n",
       "\t 6-11yrs & 29 & 3 & 2 & 1 & 0 & 14 & 29\\\\\n",
       "\t 6-11yrs & 31 & 2 & 1 & 1 & 1 & 15 & 21\\\\\n",
       "\t 6-11yrs & 27 & 2 & 2 & 1 & 0 & 16 & 18\\\\\n",
       "\t 6-11yrs & 30 & 5 & 2 & 1 & 1 & 17 & 38\\\\\n",
       "\t 6-11yrs & 26 & 1 & 0 & 1 & 1 & 18 &  7\\\\\n",
       "\t 6-11yrs & 25 & 3 & 2 & 1 & 1 & 19 & 28\\\\\n",
       "\t 6-11yrs & 44 & 1 & 0 & 1 & 1 & 20 & 17\\\\\n",
       "\t 6-11yrs & 40 & 1 & 0 & 1 & 1 & 21 & 14\\\\\n",
       "\t 6-11yrs & 35 & 2 & 2 & 1 & 0 & 22 & 24\\\\\n",
       "\t 6-11yrs & 28 & 2 & 0 & 1 & 2 & 23 & 19\\\\\n",
       "\t 6-11yrs & 36 & 1 & 0 & 1 & 1 & 24 & 12\\\\\n",
       "\t 6-11yrs & 27 & 2 & 1 & 1 & 1 & 25 & 18\\\\\n",
       "\t 6-11yrs & 40 & 2 & 0 & 1 & 2 & 26 & 27\\\\\n",
       "\t 6-11yrs & 38 & 2 & 0 & 1 & 2 & 27 & 26\\\\\n",
       "\t 6-11yrs & 34 & 3 & 0 & 1 & 2 & 28 & 31\\\\\n",
       "\t 6-11yrs & 28 & 4 & 1 & 1 & 2 & 29 & 34\\\\\n",
       "\t 6-11yrs & 30 & 4 & 2 & 1 & 0 & 30 & 35\\\\\n",
       "\t ... & ... & ... & ... & ... & ... & ... & ...\\\\\n",
       "\t 12+ yrs & 28 & 1 & 0 & 0 & 1 & 54 & 42\\\\\n",
       "\t 12+ yrs & 29 & 2 & 1 & 0 & 1 & 55 & 52\\\\\n",
       "\t 12+ yrs & 36 & 2 & 0 & 0 & 1 & 56 & 55\\\\\n",
       "\t 12+ yrs & 28 & 2 & 2 & 0 & 0 & 57 & 51\\\\\n",
       "\t 12+ yrs & 28 & 2 & 1 & 0 & 0 & 58 & 51\\\\\n",
       "\t 12+ yrs & 28 & 1 & 0 & 0 & 0 & 59 & 42\\\\\n",
       "\t 12+ yrs & 27 & 2 & 1 & 0 & 0 & 60 & 50\\\\\n",
       "\t 12+ yrs & 35 & 2 & 1 & 0 & 0 & 61 & 54\\\\\n",
       "\t 12+ yrs & 25 & 1 & 1 & 0 & 0 & 62 & 41\\\\\n",
       "\t 12+ yrs & 34 & 1 & 0 & 0 & 0 & 63 & 47\\\\\n",
       "\t 12+ yrs & 31 & 2 & 1 & 0 & 0 & 64 & 53\\\\\n",
       "\t 12+ yrs & 26 & 2 & 0 & 0 & 2 & 65 & 49\\\\\n",
       "\t 12+ yrs & 32 & 1 & 1 & 0 & 0 & 66 & 46\\\\\n",
       "\t 12+ yrs & 21 & 1 & 0 & 0 & 0 & 67 & 39\\\\\n",
       "\t 12+ yrs & 28 & 3 & 2 & 0 & 0 & 68 & 58\\\\\n",
       "\t 12+ yrs & 37 & 3 & 0 & 0 & 2 & 69 & 59\\\\\n",
       "\t 12+ yrs & 25 & 1 & 1 & 0 & 0 & 70 & 41\\\\\n",
       "\t 12+ yrs & 32 & 1 & 0 & 0 & 0 & 71 & 46\\\\\n",
       "\t 12+ yrs & 25 & 1 & 1 & 0 & 0 & 72 & 41\\\\\n",
       "\t 12+ yrs & 31 & 1 & 0 & 0 & 0 & 73 & 45\\\\\n",
       "\t 12+ yrs & 38 & 6 & 0 & 0 & 2 & 74 & 63\\\\\n",
       "\t 12+ yrs & 26 & 2 & 1 & 0 & 1 & 75 & 49\\\\\n",
       "\t 12+ yrs & 31 & 1 & 1 & 0 & 0 & 76 & 45\\\\\n",
       "\t 12+ yrs & 31 & 2 & 0 & 0 & 1 & 77 & 53\\\\\n",
       "\t 12+ yrs & 25 & 1 & 0 & 0 & 1 & 78 & 41\\\\\n",
       "\t 12+ yrs & 31 & 1 & 0 & 0 & 1 & 79 & 45\\\\\n",
       "\t 12+ yrs & 34 & 1 & 0 & 0 & 0 & 80 & 47\\\\\n",
       "\t 12+ yrs & 35 & 2 & 2 & 0 & 0 & 81 & 54\\\\\n",
       "\t 12+ yrs & 29 & 1 & 0 & 0 & 1 & 82 & 43\\\\\n",
       "\t 12+ yrs & 23 & 1 & 0 & 0 & 1 & 83 & 40\\\\\n",
       "\\end{tabular}\n"
      ],
      "text/markdown": [
       "\n",
       "A data.frame: 248 × 8\n",
       "\n",
       "| education &lt;fct&gt; | age &lt;dbl&gt; | parity &lt;dbl&gt; | induced &lt;dbl&gt; | case &lt;dbl&gt; | spontaneous &lt;dbl&gt; | stratum &lt;int&gt; | pooled.stratum &lt;dbl&gt; |\n",
       "|---|---|---|---|---|---|---|---|\n",
       "| 0-5yrs  | 26 | 6 | 1 | 1 | 2 |  1 |  3 |\n",
       "| 0-5yrs  | 42 | 1 | 1 | 1 | 0 |  2 |  1 |\n",
       "| 0-5yrs  | 39 | 6 | 2 | 1 | 0 |  3 |  4 |\n",
       "| 0-5yrs  | 34 | 4 | 2 | 1 | 0 |  4 |  2 |\n",
       "| 6-11yrs | 35 | 3 | 1 | 1 | 1 |  5 | 32 |\n",
       "| 6-11yrs | 36 | 4 | 2 | 1 | 1 |  6 | 36 |\n",
       "| 6-11yrs | 23 | 1 | 0 | 1 | 0 |  7 |  6 |\n",
       "| 6-11yrs | 32 | 2 | 0 | 1 | 0 |  8 | 22 |\n",
       "| 6-11yrs | 21 | 1 | 0 | 1 | 1 |  9 |  5 |\n",
       "| 6-11yrs | 28 | 2 | 0 | 1 | 0 | 10 | 19 |\n",
       "| 6-11yrs | 29 | 2 | 1 | 1 | 0 | 11 | 20 |\n",
       "| 6-11yrs | 37 | 4 | 2 | 1 | 1 | 12 | 37 |\n",
       "| 6-11yrs | 31 | 1 | 1 | 1 | 0 | 13 |  9 |\n",
       "| 6-11yrs | 29 | 3 | 2 | 1 | 0 | 14 | 29 |\n",
       "| 6-11yrs | 31 | 2 | 1 | 1 | 1 | 15 | 21 |\n",
       "| 6-11yrs | 27 | 2 | 2 | 1 | 0 | 16 | 18 |\n",
       "| 6-11yrs | 30 | 5 | 2 | 1 | 1 | 17 | 38 |\n",
       "| 6-11yrs | 26 | 1 | 0 | 1 | 1 | 18 |  7 |\n",
       "| 6-11yrs | 25 | 3 | 2 | 1 | 1 | 19 | 28 |\n",
       "| 6-11yrs | 44 | 1 | 0 | 1 | 1 | 20 | 17 |\n",
       "| 6-11yrs | 40 | 1 | 0 | 1 | 1 | 21 | 14 |\n",
       "| 6-11yrs | 35 | 2 | 2 | 1 | 0 | 22 | 24 |\n",
       "| 6-11yrs | 28 | 2 | 0 | 1 | 2 | 23 | 19 |\n",
       "| 6-11yrs | 36 | 1 | 0 | 1 | 1 | 24 | 12 |\n",
       "| 6-11yrs | 27 | 2 | 1 | 1 | 1 | 25 | 18 |\n",
       "| 6-11yrs | 40 | 2 | 0 | 1 | 2 | 26 | 27 |\n",
       "| 6-11yrs | 38 | 2 | 0 | 1 | 2 | 27 | 26 |\n",
       "| 6-11yrs | 34 | 3 | 0 | 1 | 2 | 28 | 31 |\n",
       "| 6-11yrs | 28 | 4 | 1 | 1 | 2 | 29 | 34 |\n",
       "| 6-11yrs | 30 | 4 | 2 | 1 | 0 | 30 | 35 |\n",
       "| ... | ... | ... | ... | ... | ... | ... | ... |\n",
       "| 12+ yrs | 28 | 1 | 0 | 0 | 1 | 54 | 42 |\n",
       "| 12+ yrs | 29 | 2 | 1 | 0 | 1 | 55 | 52 |\n",
       "| 12+ yrs | 36 | 2 | 0 | 0 | 1 | 56 | 55 |\n",
       "| 12+ yrs | 28 | 2 | 2 | 0 | 0 | 57 | 51 |\n",
       "| 12+ yrs | 28 | 2 | 1 | 0 | 0 | 58 | 51 |\n",
       "| 12+ yrs | 28 | 1 | 0 | 0 | 0 | 59 | 42 |\n",
       "| 12+ yrs | 27 | 2 | 1 | 0 | 0 | 60 | 50 |\n",
       "| 12+ yrs | 35 | 2 | 1 | 0 | 0 | 61 | 54 |\n",
       "| 12+ yrs | 25 | 1 | 1 | 0 | 0 | 62 | 41 |\n",
       "| 12+ yrs | 34 | 1 | 0 | 0 | 0 | 63 | 47 |\n",
       "| 12+ yrs | 31 | 2 | 1 | 0 | 0 | 64 | 53 |\n",
       "| 12+ yrs | 26 | 2 | 0 | 0 | 2 | 65 | 49 |\n",
       "| 12+ yrs | 32 | 1 | 1 | 0 | 0 | 66 | 46 |\n",
       "| 12+ yrs | 21 | 1 | 0 | 0 | 0 | 67 | 39 |\n",
       "| 12+ yrs | 28 | 3 | 2 | 0 | 0 | 68 | 58 |\n",
       "| 12+ yrs | 37 | 3 | 0 | 0 | 2 | 69 | 59 |\n",
       "| 12+ yrs | 25 | 1 | 1 | 0 | 0 | 70 | 41 |\n",
       "| 12+ yrs | 32 | 1 | 0 | 0 | 0 | 71 | 46 |\n",
       "| 12+ yrs | 25 | 1 | 1 | 0 | 0 | 72 | 41 |\n",
       "| 12+ yrs | 31 | 1 | 0 | 0 | 0 | 73 | 45 |\n",
       "| 12+ yrs | 38 | 6 | 0 | 0 | 2 | 74 | 63 |\n",
       "| 12+ yrs | 26 | 2 | 1 | 0 | 1 | 75 | 49 |\n",
       "| 12+ yrs | 31 | 1 | 1 | 0 | 0 | 76 | 45 |\n",
       "| 12+ yrs | 31 | 2 | 0 | 0 | 1 | 77 | 53 |\n",
       "| 12+ yrs | 25 | 1 | 0 | 0 | 1 | 78 | 41 |\n",
       "| 12+ yrs | 31 | 1 | 0 | 0 | 1 | 79 | 45 |\n",
       "| 12+ yrs | 34 | 1 | 0 | 0 | 0 | 80 | 47 |\n",
       "| 12+ yrs | 35 | 2 | 2 | 0 | 0 | 81 | 54 |\n",
       "| 12+ yrs | 29 | 1 | 0 | 0 | 1 | 82 | 43 |\n",
       "| 12+ yrs | 23 | 1 | 0 | 0 | 1 | 83 | 40 |\n",
       "\n"
      ],
      "text/plain": [
       "    education age parity induced case spontaneous stratum pooled.stratum\n",
       "1   0-5yrs    26  6      1       1    2            1       3            \n",
       "2   0-5yrs    42  1      1       1    0            2       1            \n",
       "3   0-5yrs    39  6      2       1    0            3       4            \n",
       "4   0-5yrs    34  4      2       1    0            4       2            \n",
       "5   6-11yrs   35  3      1       1    1            5      32            \n",
       "6   6-11yrs   36  4      2       1    1            6      36            \n",
       "7   6-11yrs   23  1      0       1    0            7       6            \n",
       "8   6-11yrs   32  2      0       1    0            8      22            \n",
       "9   6-11yrs   21  1      0       1    1            9       5            \n",
       "10  6-11yrs   28  2      0       1    0           10      19            \n",
       "11  6-11yrs   29  2      1       1    0           11      20            \n",
       "12  6-11yrs   37  4      2       1    1           12      37            \n",
       "13  6-11yrs   31  1      1       1    0           13       9            \n",
       "14  6-11yrs   29  3      2       1    0           14      29            \n",
       "15  6-11yrs   31  2      1       1    1           15      21            \n",
       "16  6-11yrs   27  2      2       1    0           16      18            \n",
       "17  6-11yrs   30  5      2       1    1           17      38            \n",
       "18  6-11yrs   26  1      0       1    1           18       7            \n",
       "19  6-11yrs   25  3      2       1    1           19      28            \n",
       "20  6-11yrs   44  1      0       1    1           20      17            \n",
       "21  6-11yrs   40  1      0       1    1           21      14            \n",
       "22  6-11yrs   35  2      2       1    0           22      24            \n",
       "23  6-11yrs   28  2      0       1    2           23      19            \n",
       "24  6-11yrs   36  1      0       1    1           24      12            \n",
       "25  6-11yrs   27  2      1       1    1           25      18            \n",
       "26  6-11yrs   40  2      0       1    2           26      27            \n",
       "27  6-11yrs   38  2      0       1    2           27      26            \n",
       "28  6-11yrs   34  3      0       1    2           28      31            \n",
       "29  6-11yrs   28  4      1       1    2           29      34            \n",
       "30  6-11yrs   30  4      2       1    0           30      35            \n",
       "... ...       ... ...    ...     ...  ...         ...     ...           \n",
       "219 12+ yrs   28  1      0       0    1           54      42            \n",
       "220 12+ yrs   29  2      1       0    1           55      52            \n",
       "221 12+ yrs   36  2      0       0    1           56      55            \n",
       "222 12+ yrs   28  2      2       0    0           57      51            \n",
       "223 12+ yrs   28  2      1       0    0           58      51            \n",
       "224 12+ yrs   28  1      0       0    0           59      42            \n",
       "225 12+ yrs   27  2      1       0    0           60      50            \n",
       "226 12+ yrs   35  2      1       0    0           61      54            \n",
       "227 12+ yrs   25  1      1       0    0           62      41            \n",
       "228 12+ yrs   34  1      0       0    0           63      47            \n",
       "229 12+ yrs   31  2      1       0    0           64      53            \n",
       "230 12+ yrs   26  2      0       0    2           65      49            \n",
       "231 12+ yrs   32  1      1       0    0           66      46            \n",
       "232 12+ yrs   21  1      0       0    0           67      39            \n",
       "233 12+ yrs   28  3      2       0    0           68      58            \n",
       "234 12+ yrs   37  3      0       0    2           69      59            \n",
       "235 12+ yrs   25  1      1       0    0           70      41            \n",
       "236 12+ yrs   32  1      0       0    0           71      46            \n",
       "237 12+ yrs   25  1      1       0    0           72      41            \n",
       "238 12+ yrs   31  1      0       0    0           73      45            \n",
       "239 12+ yrs   38  6      0       0    2           74      63            \n",
       "240 12+ yrs   26  2      1       0    1           75      49            \n",
       "241 12+ yrs   31  1      1       0    0           76      45            \n",
       "242 12+ yrs   31  2      0       0    1           77      53            \n",
       "243 12+ yrs   25  1      0       0    1           78      41            \n",
       "244 12+ yrs   31  1      0       0    1           79      45            \n",
       "245 12+ yrs   34  1      0       0    0           80      47            \n",
       "246 12+ yrs   35  2      2       0    0           81      54            \n",
       "247 12+ yrs   29  1      0       0    1           82      43            \n",
       "248 12+ yrs   23  1      0       0    1           83      40            "
      ]
     },
     "metadata": {},
     "output_type": "display_data"
    }
   ],
   "source": [
    "infert"
   ]
  },
  {
   "cell_type": "code",
   "execution_count": 10,
   "metadata": {},
   "outputs": [
    {
     "data": {
      "text/plain": [
       "   education        age            parity         induced      \n",
       " 0-5yrs : 12   Min.   :21.00   Min.   :1.000   Min.   :0.0000  \n",
       " 6-11yrs:120   1st Qu.:28.00   1st Qu.:1.000   1st Qu.:0.0000  \n",
       " 12+ yrs:116   Median :31.00   Median :2.000   Median :0.0000  \n",
       "               Mean   :31.50   Mean   :2.093   Mean   :0.5726  \n",
       "               3rd Qu.:35.25   3rd Qu.:3.000   3rd Qu.:1.0000  \n",
       "               Max.   :44.00   Max.   :6.000   Max.   :2.0000  \n",
       "      case         spontaneous        stratum      pooled.stratum \n",
       " Min.   :0.0000   Min.   :0.0000   Min.   : 1.00   Min.   : 1.00  \n",
       " 1st Qu.:0.0000   1st Qu.:0.0000   1st Qu.:21.00   1st Qu.:19.00  \n",
       " Median :0.0000   Median :0.0000   Median :42.00   Median :36.00  \n",
       " Mean   :0.3347   Mean   :0.5766   Mean   :41.87   Mean   :33.58  \n",
       " 3rd Qu.:1.0000   3rd Qu.:1.0000   3rd Qu.:62.25   3rd Qu.:48.25  \n",
       " Max.   :1.0000   Max.   :2.0000   Max.   :83.00   Max.   :63.00  "
      ]
     },
     "metadata": {},
     "output_type": "display_data"
    }
   ],
   "source": [
    "summary(infert)"
   ]
  },
  {
   "cell_type": "code",
   "execution_count": 11,
   "metadata": {},
   "outputs": [
    {
     "data": {
      "text/html": [
       "4.83870967741935"
      ],
      "text/latex": [
       "4.83870967741935"
      ],
      "text/markdown": [
       "4.83870967741935"
      ],
      "text/plain": [
       "[1] 4.83871"
      ]
     },
     "metadata": {},
     "output_type": "display_data"
    },
    {
     "data": {
      "text/html": [
       "48.3870967741936"
      ],
      "text/latex": [
       "48.3870967741936"
      ],
      "text/markdown": [
       "48.3870967741936"
      ],
      "text/plain": [
       "[1] 48.3871"
      ]
     },
     "metadata": {},
     "output_type": "display_data"
    },
    {
     "data": {
      "text/html": [
       "46.7741935483871"
      ],
      "text/latex": [
       "46.7741935483871"
      ],
      "text/markdown": [
       "46.7741935483871"
      ],
      "text/plain": [
       "[1] 46.77419"
      ]
     },
     "metadata": {},
     "output_type": "display_data"
    }
   ],
   "source": [
    "# Ponderando estratos\n",
    "# n_elementos / total_registros * tamanho_amostra\n",
    "\n",
    "12/248*100 # 0-5\n",
    "120/248*100 # 6-11\n",
    "116/248*100 # 12+"
   ]
  },
  {
   "cell_type": "code",
   "execution_count": 12,
   "metadata": {},
   "outputs": [
    {
     "data": {
      "text/plain": [
       "   education     ID_unit            Prob           Stratum    \n",
       " 0-5yrs : 5   Min.   :  1.00   Min.   :0.4000   Min.   :1.00  \n",
       " 6-11yrs:48   1st Qu.: 58.75   1st Qu.:0.4000   1st Qu.:2.00  \n",
       " 12+ yrs:47   Median :126.00   Median :0.4052   Median :2.00  \n",
       "              Mean   :121.64   Mean   :0.4033   Mean   :2.42  \n",
       "              3rd Qu.:179.50   3rd Qu.:0.4052   3rd Qu.:3.00  \n",
       "              Max.   :243.00   Max.   :0.4167   Max.   :3.00  "
      ]
     },
     "metadata": {},
     "output_type": "display_data"
    }
   ],
   "source": [
    "amostra = strata(infert, c(\"education\"), size = c(5,48,47), method = \"srswor\")\n",
    "summary(amostra)"
   ]
  },
  {
   "cell_type": "markdown",
   "metadata": {},
   "source": [
    "### Amostragem Aleatória Sistemática"
   ]
  },
  {
   "cell_type": "code",
   "execution_count": 13,
   "metadata": {},
   "outputs": [],
   "source": [
    "# install.packages(\"TeachingSampling\")\n",
    "library(TeachingSampling)"
   ]
  },
  {
   "cell_type": "code",
   "execution_count": 14,
   "metadata": {},
   "outputs": [
    {
     "data": {
      "text/html": [
       "<table>\n",
       "<caption>A matrix: 15 × 1 of type dbl</caption>\n",
       "<tbody>\n",
       "\t<tr><td>  1</td></tr>\n",
       "\t<tr><td> 11</td></tr>\n",
       "\t<tr><td> 21</td></tr>\n",
       "\t<tr><td> 31</td></tr>\n",
       "\t<tr><td> 41</td></tr>\n",
       "\t<tr><td> 51</td></tr>\n",
       "\t<tr><td> 61</td></tr>\n",
       "\t<tr><td> 71</td></tr>\n",
       "\t<tr><td> 81</td></tr>\n",
       "\t<tr><td> 91</td></tr>\n",
       "\t<tr><td>101</td></tr>\n",
       "\t<tr><td>111</td></tr>\n",
       "\t<tr><td>121</td></tr>\n",
       "\t<tr><td>131</td></tr>\n",
       "\t<tr><td>141</td></tr>\n",
       "</tbody>\n",
       "</table>\n"
      ],
      "text/latex": [
       "A matrix: 15 × 1 of type dbl\n",
       "\\begin{tabular}{l}\n",
       "\t   1\\\\\n",
       "\t  11\\\\\n",
       "\t  21\\\\\n",
       "\t  31\\\\\n",
       "\t  41\\\\\n",
       "\t  51\\\\\n",
       "\t  61\\\\\n",
       "\t  71\\\\\n",
       "\t  81\\\\\n",
       "\t  91\\\\\n",
       "\t 101\\\\\n",
       "\t 111\\\\\n",
       "\t 121\\\\\n",
       "\t 131\\\\\n",
       "\t 141\\\\\n",
       "\\end{tabular}\n"
      ],
      "text/markdown": [
       "\n",
       "A matrix: 15 × 1 of type dbl\n",
       "\n",
       "|   1 |\n",
       "|  11 |\n",
       "|  21 |\n",
       "|  31 |\n",
       "|  41 |\n",
       "|  51 |\n",
       "|  61 |\n",
       "|  71 |\n",
       "|  81 |\n",
       "|  91 |\n",
       "| 101 |\n",
       "| 111 |\n",
       "| 121 |\n",
       "| 131 |\n",
       "| 141 |\n",
       "\n"
      ],
      "text/plain": [
       "      [,1]\n",
       " [1,]   1 \n",
       " [2,]  11 \n",
       " [3,]  21 \n",
       " [4,]  31 \n",
       " [5,]  41 \n",
       " [6,]  51 \n",
       " [7,]  61 \n",
       " [8,]  71 \n",
       " [9,]  81 \n",
       "[10,]  91 \n",
       "[11,] 101 \n",
       "[12,] 111 \n",
       "[13,] 121 \n",
       "[14,] 131 \n",
       "[15,] 141 "
      ]
     },
     "metadata": {},
     "output_type": "display_data"
    }
   ],
   "source": [
    "amostra = S.SY(150,10)\n",
    "amostra"
   ]
  },
  {
   "cell_type": "code",
   "execution_count": 15,
   "metadata": {},
   "outputs": [
    {
     "data": {
      "text/html": [
       "<table>\n",
       "<caption>A data.frame: 15 × 5</caption>\n",
       "<thead>\n",
       "\t<tr><th></th><th scope=col>Sepal.Length</th><th scope=col>Sepal.Width</th><th scope=col>Petal.Length</th><th scope=col>Petal.Width</th><th scope=col>Species</th></tr>\n",
       "\t<tr><th></th><th scope=col>&lt;dbl&gt;</th><th scope=col>&lt;dbl&gt;</th><th scope=col>&lt;dbl&gt;</th><th scope=col>&lt;dbl&gt;</th><th scope=col>&lt;fct&gt;</th></tr>\n",
       "</thead>\n",
       "<tbody>\n",
       "\t<tr><th scope=row>1</th><td>5.1</td><td>3.5</td><td>1.4</td><td>0.2</td><td>setosa    </td></tr>\n",
       "\t<tr><th scope=row>11</th><td>5.4</td><td>3.7</td><td>1.5</td><td>0.2</td><td>setosa    </td></tr>\n",
       "\t<tr><th scope=row>21</th><td>5.4</td><td>3.4</td><td>1.7</td><td>0.2</td><td>setosa    </td></tr>\n",
       "\t<tr><th scope=row>31</th><td>4.8</td><td>3.1</td><td>1.6</td><td>0.2</td><td>setosa    </td></tr>\n",
       "\t<tr><th scope=row>41</th><td>5.0</td><td>3.5</td><td>1.3</td><td>0.3</td><td>setosa    </td></tr>\n",
       "\t<tr><th scope=row>51</th><td>7.0</td><td>3.2</td><td>4.7</td><td>1.4</td><td>versicolor</td></tr>\n",
       "\t<tr><th scope=row>61</th><td>5.0</td><td>2.0</td><td>3.5</td><td>1.0</td><td>versicolor</td></tr>\n",
       "\t<tr><th scope=row>71</th><td>5.9</td><td>3.2</td><td>4.8</td><td>1.8</td><td>versicolor</td></tr>\n",
       "\t<tr><th scope=row>81</th><td>5.5</td><td>2.4</td><td>3.8</td><td>1.1</td><td>versicolor</td></tr>\n",
       "\t<tr><th scope=row>91</th><td>5.5</td><td>2.6</td><td>4.4</td><td>1.2</td><td>versicolor</td></tr>\n",
       "\t<tr><th scope=row>101</th><td>6.3</td><td>3.3</td><td>6.0</td><td>2.5</td><td>virginica </td></tr>\n",
       "\t<tr><th scope=row>111</th><td>6.5</td><td>3.2</td><td>5.1</td><td>2.0</td><td>virginica </td></tr>\n",
       "\t<tr><th scope=row>121</th><td>6.9</td><td>3.2</td><td>5.7</td><td>2.3</td><td>virginica </td></tr>\n",
       "\t<tr><th scope=row>131</th><td>7.4</td><td>2.8</td><td>6.1</td><td>1.9</td><td>virginica </td></tr>\n",
       "\t<tr><th scope=row>141</th><td>6.7</td><td>3.1</td><td>5.6</td><td>2.4</td><td>virginica </td></tr>\n",
       "</tbody>\n",
       "</table>\n"
      ],
      "text/latex": [
       "A data.frame: 15 × 5\n",
       "\\begin{tabular}{r|lllll}\n",
       "  & Sepal.Length & Sepal.Width & Petal.Length & Petal.Width & Species\\\\\n",
       "  & <dbl> & <dbl> & <dbl> & <dbl> & <fct>\\\\\n",
       "\\hline\n",
       "\t1 & 5.1 & 3.5 & 1.4 & 0.2 & setosa    \\\\\n",
       "\t11 & 5.4 & 3.7 & 1.5 & 0.2 & setosa    \\\\\n",
       "\t21 & 5.4 & 3.4 & 1.7 & 0.2 & setosa    \\\\\n",
       "\t31 & 4.8 & 3.1 & 1.6 & 0.2 & setosa    \\\\\n",
       "\t41 & 5.0 & 3.5 & 1.3 & 0.3 & setosa    \\\\\n",
       "\t51 & 7.0 & 3.2 & 4.7 & 1.4 & versicolor\\\\\n",
       "\t61 & 5.0 & 2.0 & 3.5 & 1.0 & versicolor\\\\\n",
       "\t71 & 5.9 & 3.2 & 4.8 & 1.8 & versicolor\\\\\n",
       "\t81 & 5.5 & 2.4 & 3.8 & 1.1 & versicolor\\\\\n",
       "\t91 & 5.5 & 2.6 & 4.4 & 1.2 & versicolor\\\\\n",
       "\t101 & 6.3 & 3.3 & 6.0 & 2.5 & virginica \\\\\n",
       "\t111 & 6.5 & 3.2 & 5.1 & 2.0 & virginica \\\\\n",
       "\t121 & 6.9 & 3.2 & 5.7 & 2.3 & virginica \\\\\n",
       "\t131 & 7.4 & 2.8 & 6.1 & 1.9 & virginica \\\\\n",
       "\t141 & 6.7 & 3.1 & 5.6 & 2.4 & virginica \\\\\n",
       "\\end{tabular}\n"
      ],
      "text/markdown": [
       "\n",
       "A data.frame: 15 × 5\n",
       "\n",
       "| <!--/--> | Sepal.Length &lt;dbl&gt; | Sepal.Width &lt;dbl&gt; | Petal.Length &lt;dbl&gt; | Petal.Width &lt;dbl&gt; | Species &lt;fct&gt; |\n",
       "|---|---|---|---|---|---|\n",
       "| 1 | 5.1 | 3.5 | 1.4 | 0.2 | setosa     |\n",
       "| 11 | 5.4 | 3.7 | 1.5 | 0.2 | setosa     |\n",
       "| 21 | 5.4 | 3.4 | 1.7 | 0.2 | setosa     |\n",
       "| 31 | 4.8 | 3.1 | 1.6 | 0.2 | setosa     |\n",
       "| 41 | 5.0 | 3.5 | 1.3 | 0.3 | setosa     |\n",
       "| 51 | 7.0 | 3.2 | 4.7 | 1.4 | versicolor |\n",
       "| 61 | 5.0 | 2.0 | 3.5 | 1.0 | versicolor |\n",
       "| 71 | 5.9 | 3.2 | 4.8 | 1.8 | versicolor |\n",
       "| 81 | 5.5 | 2.4 | 3.8 | 1.1 | versicolor |\n",
       "| 91 | 5.5 | 2.6 | 4.4 | 1.2 | versicolor |\n",
       "| 101 | 6.3 | 3.3 | 6.0 | 2.5 | virginica  |\n",
       "| 111 | 6.5 | 3.2 | 5.1 | 2.0 | virginica  |\n",
       "| 121 | 6.9 | 3.2 | 5.7 | 2.3 | virginica  |\n",
       "| 131 | 7.4 | 2.8 | 6.1 | 1.9 | virginica  |\n",
       "| 141 | 6.7 | 3.1 | 5.6 | 2.4 | virginica  |\n",
       "\n"
      ],
      "text/plain": [
       "    Sepal.Length Sepal.Width Petal.Length Petal.Width Species   \n",
       "1   5.1          3.5         1.4          0.2         setosa    \n",
       "11  5.4          3.7         1.5          0.2         setosa    \n",
       "21  5.4          3.4         1.7          0.2         setosa    \n",
       "31  4.8          3.1         1.6          0.2         setosa    \n",
       "41  5.0          3.5         1.3          0.3         setosa    \n",
       "51  7.0          3.2         4.7          1.4         versicolor\n",
       "61  5.0          2.0         3.5          1.0         versicolor\n",
       "71  5.9          3.2         4.8          1.8         versicolor\n",
       "81  5.5          2.4         3.8          1.1         versicolor\n",
       "91  5.5          2.6         4.4          1.2         versicolor\n",
       "101 6.3          3.3         6.0          2.5         virginica \n",
       "111 6.5          3.2         5.1          2.0         virginica \n",
       "121 6.9          3.2         5.7          2.3         virginica \n",
       "131 7.4          2.8         6.1          1.9         virginica \n",
       "141 6.7          3.1         5.6          2.4         virginica "
      ]
     },
     "metadata": {},
     "output_type": "display_data"
    }
   ],
   "source": [
    "amostrairis = iris[amostra,]\n",
    "amostrairis"
   ]
  }
 ],
 "metadata": {
  "kernelspec": {
   "display_name": "R 3.3",
   "language": "R",
   "name": "ir33"
  },
  "language_info": {
   "codemirror_mode": "r",
   "file_extension": ".r",
   "mimetype": "text/x-r-source",
   "name": "R",
   "pygments_lexer": "r",
   "version": "3.6.1"
  }
 },
 "nbformat": 4,
 "nbformat_minor": 4
}
