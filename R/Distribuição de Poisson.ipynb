{
 "cells": [
  {
   "cell_type": "markdown",
   "metadata": {},
   "source": [
    "### Distribuição de Poisson"
   ]
  },
  {
   "cell_type": "code",
   "execution_count": 1,
   "metadata": {},
   "outputs": [
    {
     "data": {
      "text/html": [
       "0.180447044315484"
      ],
      "text/latex": [
       "0.180447044315484"
      ],
      "text/markdown": [
       "0.180447044315484"
      ],
      "text/plain": [
       "[1] 0.180447"
      ]
     },
     "metadata": {},
     "output_type": "display_data"
    }
   ],
   "source": [
    "# Média de acidentes que ocorrem em um dia = 2\n",
    "\n",
    "# Qual a probabilidade de ocorrerem 3?\n",
    "\n",
    "dpois(3, lambda=2)"
   ]
  },
  {
   "cell_type": "code",
   "execution_count": 2,
   "metadata": {},
   "outputs": [
    {
     "data": {
      "text/html": [
       "0.857123460498547"
      ],
      "text/latex": [
       "0.857123460498547"
      ],
      "text/markdown": [
       "0.857123460498547"
      ],
      "text/plain": [
       "[1] 0.8571235"
      ]
     },
     "metadata": {},
     "output_type": "display_data"
    }
   ],
   "source": [
    "# Qual a probabilidade de ocorrerem 3 ou menos?\n",
    "\n",
    "ppois(3, lambda=2)"
   ]
  },
  {
   "cell_type": "code",
   "execution_count": 3,
   "metadata": {},
   "outputs": [
    {
     "data": {
      "text/html": [
       "0.142876539501453"
      ],
      "text/latex": [
       "0.142876539501453"
      ],
      "text/markdown": [
       "0.142876539501453"
      ],
      "text/plain": [
       "[1] 0.1428765"
      ]
     },
     "metadata": {},
     "output_type": "display_data"
    }
   ],
   "source": [
    "# Qual a probabilidade de ocorrerem mais que 3?\n",
    "ppois(3, lambda=2, lower.tail=F)"
   ]
  }
 ],
 "metadata": {
  "kernelspec": {
   "display_name": "R 3.3",
   "language": "R",
   "name": "ir33"
  },
  "language_info": {
   "codemirror_mode": "r",
   "file_extension": ".r",
   "mimetype": "text/x-r-source",
   "name": "R",
   "pygments_lexer": "r",
   "version": "3.6.1"
  }
 },
 "nbformat": 4,
 "nbformat_minor": 4
}
