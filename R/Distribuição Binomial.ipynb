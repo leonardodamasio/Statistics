{
 "cells": [
  {
   "cell_type": "markdown",
   "metadata": {},
   "source": [
    "### Distribuição Binomial"
   ]
  },
  {
   "cell_type": "code",
   "execution_count": 1,
   "metadata": {},
   "outputs": [
    {
     "data": {
      "text/html": [
       "0.3125"
      ],
      "text/latex": [
       "0.3125"
      ],
      "text/markdown": [
       "0.3125"
      ],
      "text/plain": [
       "[1] 0.3125"
      ]
     },
     "metadata": {},
     "output_type": "display_data"
    }
   ],
   "source": [
    "# nº sucessos, qtd experimentos, probabilidade de sucesso em cada\n",
    "dbinom(3, 5, 0.5)"
   ]
  },
  {
   "cell_type": "code",
   "execution_count": 2,
   "metadata": {},
   "outputs": [
    {
     "data": {
      "text/html": [
       "0.31640625"
      ],
      "text/latex": [
       "0.31640625"
      ],
      "text/markdown": [
       "0.31640625"
      ],
      "text/plain": [
       "[1] 0.3164063"
      ]
     },
     "metadata": {},
     "output_type": "display_data"
    },
    {
     "data": {
      "text/html": [
       "0.421875"
      ],
      "text/latex": [
       "0.421875"
      ],
      "text/markdown": [
       "0.421875"
      ],
      "text/plain": [
       "[1] 0.421875"
      ]
     },
     "metadata": {},
     "output_type": "display_data"
    },
    {
     "data": {
      "text/html": [
       "0.2109375"
      ],
      "text/latex": [
       "0.2109375"
      ],
      "text/markdown": [
       "0.2109375"
      ],
      "text/plain": [
       "[1] 0.2109375"
      ]
     },
     "metadata": {},
     "output_type": "display_data"
    },
    {
     "data": {
      "text/html": [
       "0.046875"
      ],
      "text/latex": [
       "0.046875"
      ],
      "text/markdown": [
       "0.046875"
      ],
      "text/plain": [
       "[1] 0.046875"
      ]
     },
     "metadata": {},
     "output_type": "display_data"
    },
    {
     "data": {
      "text/html": [
       "0.00390625"
      ],
      "text/latex": [
       "0.00390625"
      ],
      "text/markdown": [
       "0.00390625"
      ],
      "text/plain": [
       "[1] 0.00390625"
      ]
     },
     "metadata": {},
     "output_type": "display_data"
    }
   ],
   "source": [
    "# 4 sinais de 4 tempos cada\n",
    "\n",
    "# Probabilidade de não pegar nenhum sinal verde\n",
    "dbinom(0,4,0.25)\n",
    "\n",
    "# 1 sinal\n",
    "dbinom(1,4,0.25)\n",
    "\n",
    "# 2 sinais\n",
    "dbinom(2,4,0.25)\n",
    "\n",
    "# 3 sinais\n",
    "dbinom(3,4,0.25)\n",
    "\n",
    "# 4 sinais\n",
    "dbinom(4,4,0.25)"
   ]
  },
  {
   "cell_type": "code",
   "execution_count": 3,
   "metadata": {},
   "outputs": [
    {
     "data": {
      "text/html": [
       "1"
      ],
      "text/latex": [
       "1"
      ],
      "text/markdown": [
       "1"
      ],
      "text/plain": [
       "[1] 1"
      ]
     },
     "metadata": {},
     "output_type": "display_data"
    }
   ],
   "source": [
    "dbinom(0,4,0.25) +\n",
    "dbinom(1,4,0.25) +\n",
    "dbinom(2,4,0.25) +\n",
    "dbinom(3,4,0.25) +\n",
    "dbinom(4,4,0.25)"
   ]
  },
  {
   "cell_type": "code",
   "execution_count": 4,
   "metadata": {},
   "outputs": [
    {
     "data": {
      "text/html": [
       "1"
      ],
      "text/latex": [
       "1"
      ],
      "text/markdown": [
       "1"
      ],
      "text/plain": [
       "[1] 1"
      ]
     },
     "metadata": {},
     "output_type": "display_data"
    }
   ],
   "source": [
    "# Probabilidade cumulativa\n",
    "pbinom(4,4,0.25)"
   ]
  },
  {
   "cell_type": "code",
   "execution_count": 5,
   "metadata": {},
   "outputs": [
    {
     "data": {
      "text/html": [
       "0.0625"
      ],
      "text/latex": [
       "0.0625"
      ],
      "text/markdown": [
       "0.0625"
      ],
      "text/plain": [
       "[1] 0.0625"
      ]
     },
     "metadata": {},
     "output_type": "display_data"
    },
    {
     "data": {
      "text/html": [
       "0.25"
      ],
      "text/latex": [
       "0.25"
      ],
      "text/markdown": [
       "0.25"
      ],
      "text/plain": [
       "[1] 0.25"
      ]
     },
     "metadata": {},
     "output_type": "display_data"
    },
    {
     "data": {
      "text/html": [
       "0.375"
      ],
      "text/latex": [
       "0.375"
      ],
      "text/markdown": [
       "0.375"
      ],
      "text/plain": [
       "[1] 0.375"
      ]
     },
     "metadata": {},
     "output_type": "display_data"
    },
    {
     "data": {
      "text/html": [
       "0.25"
      ],
      "text/latex": [
       "0.25"
      ],
      "text/markdown": [
       "0.25"
      ],
      "text/plain": [
       "[1] 0.25"
      ]
     },
     "metadata": {},
     "output_type": "display_data"
    },
    {
     "data": {
      "text/html": [
       "0.0625"
      ],
      "text/latex": [
       "0.0625"
      ],
      "text/markdown": [
       "0.0625"
      ],
      "text/plain": [
       "[1] 0.0625"
      ]
     },
     "metadata": {},
     "output_type": "display_data"
    }
   ],
   "source": [
    "# 4 sinais de 2 tempos cada\n",
    "\n",
    "# Probabilidade de não pegar nenhum sinal verde\n",
    "dbinom(0,4,0.5)\n",
    "\n",
    "# 1 sinal\n",
    "dbinom(1,4,0.5)\n",
    "\n",
    "# 2 sinais\n",
    "dbinom(2,4,0.5)\n",
    "\n",
    "# 3 sinais\n",
    "dbinom(3,4,0.5)\n",
    "\n",
    "# 4 sinais\n",
    "dbinom(4,4,0.5)"
   ]
  },
  {
   "cell_type": "code",
   "execution_count": 6,
   "metadata": {},
   "outputs": [
    {
     "data": {
      "text/html": [
       "0.0114712715148926"
      ],
      "text/latex": [
       "0.0114712715148926"
      ],
      "text/markdown": [
       "0.0114712715148926"
      ],
      "text/plain": [
       "[1] 0.01147127"
      ]
     },
     "metadata": {},
     "output_type": "display_data"
    }
   ],
   "source": [
    "# Prova com 12 questões\n",
    "\n",
    "# Probabilidade de acertar 7 das 12, sendo que cada uma possui 4 alternativas\n",
    "dbinom(7,12,0.25)"
   ]
  },
  {
   "cell_type": "code",
   "execution_count": 7,
   "metadata": {},
   "outputs": [
    {
     "data": {
      "text/html": [
       "5.96046447753907e-08"
      ],
      "text/latex": [
       "5.96046447753907e-08"
      ],
      "text/markdown": [
       "5.96046447753907e-08"
      ],
      "text/plain": [
       "[1] 5.960464e-08"
      ]
     },
     "metadata": {},
     "output_type": "display_data"
    }
   ],
   "source": [
    "# Acertar tudo\n",
    "dbinom(12,12,0.25)"
   ]
  }
 ],
 "metadata": {
  "kernelspec": {
   "display_name": "R 3.3",
   "language": "R",
   "name": "ir33"
  },
  "language_info": {
   "codemirror_mode": "r",
   "file_extension": ".r",
   "mimetype": "text/x-r-source",
   "name": "R",
   "pygments_lexer": "r",
   "version": "3.6.1"
  }
 },
 "nbformat": 4,
 "nbformat_minor": 4
}
