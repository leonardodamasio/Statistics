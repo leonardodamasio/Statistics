{
 "cells": [
  {
   "cell_type": "markdown",
   "metadata": {},
   "source": [
    "### Distribuição T de Student"
   ]
  },
  {
   "cell_type": "code",
   "execution_count": 1,
   "metadata": {},
   "outputs": [
    {
     "data": {
      "text/html": [
       "0.913998354024044"
      ],
      "text/latex": [
       "0.913998354024044"
      ],
      "text/markdown": [
       "0.913998354024044"
      ],
      "text/plain": [
       "[1] 0.9139984"
      ]
     },
     "metadata": {},
     "output_type": "display_data"
    }
   ],
   "source": [
    "# Cientistas de dados ganham R$75 por hora\n",
    "# Amostra de 9 cientistas\n",
    "# Probabilidade de selecionar um deles e o salário ser menor que R$80 por hora?\n",
    "\n",
    "# Média = 75\n",
    "# Desvio Padrão = 10\n",
    "# Consultando a tabela t, t = 1,5\n",
    "# 8 = graus de liberdade (amostra-1)\n",
    "\n",
    "pt(1.5,8)"
   ]
  },
  {
   "cell_type": "code",
   "execution_count": 2,
   "metadata": {},
   "outputs": [
    {
     "data": {
      "text/html": [
       "0.0860016459759557"
      ],
      "text/latex": [
       "0.0860016459759557"
      ],
      "text/markdown": [
       "0.0860016459759557"
      ],
      "text/plain": [
       "[1] 0.08600165"
      ]
     },
     "metadata": {},
     "output_type": "display_data"
    }
   ],
   "source": [
    "# Probabilidade do salário ser maior que R$80 por hora\n",
    "pt(1.5,8, lower.tail=F)"
   ]
  },
  {
   "cell_type": "code",
   "execution_count": 3,
   "metadata": {},
   "outputs": [
    {
     "data": {
      "text/html": [
       "1"
      ],
      "text/latex": [
       "1"
      ],
      "text/markdown": [
       "1"
      ],
      "text/plain": [
       "[1] 1"
      ]
     },
     "metadata": {},
     "output_type": "display_data"
    }
   ],
   "source": [
    "pt(1.5,8) + pt(1.5,8, lower.tail=F)"
   ]
  },
  {
   "cell_type": "code",
   "execution_count": 4,
   "metadata": {},
   "outputs": [
    {
     "data": {
      "text/html": [
       "0.0860016459759556"
      ],
      "text/latex": [
       "0.0860016459759556"
      ],
      "text/markdown": [
       "0.0860016459759556"
      ],
      "text/plain": [
       "[1] 0.08600165"
      ]
     },
     "metadata": {},
     "output_type": "display_data"
    }
   ],
   "source": [
    "1 - pt(1.5,8)"
   ]
  }
 ],
 "metadata": {
  "kernelspec": {
   "display_name": "R 3.3",
   "language": "R",
   "name": "ir33"
  },
  "language_info": {
   "codemirror_mode": "r",
   "file_extension": ".r",
   "mimetype": "text/x-r-source",
   "name": "R",
   "pygments_lexer": "r",
   "version": "3.6.1"
  }
 },
 "nbformat": 4,
 "nbformat_minor": 4
}
